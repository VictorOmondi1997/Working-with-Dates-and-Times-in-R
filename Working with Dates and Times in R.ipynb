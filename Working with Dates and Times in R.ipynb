{
 "cells": [
  {
   "cell_type": "markdown",
   "metadata": {},
   "source": [
    "# Overview\n",
    "\n",
    "Dates and times are abundant in data and essential for answering questions that start with when, how long, or how often. However, they can be tricky, as they come in a variety of formats and can behave in unintuitive ways. This article teaches you the essentials of parsing, manipulating, and computing with dates and times in R. By the end, we'll have mastered the lubridate package, a member of the tidyverse, specifically designed to handle dates and times. we'll also have applied the new skills to explore how often R versions are released, when the weather is good in Auckland (the birthplace of R), and how long monarchs ruled in Britain."
   ]
  },
  {
   "cell_type": "markdown",
   "metadata": {},
   "source": [
    "# Libraries"
   ]
  },
  {
   "cell_type": "code",
   "execution_count": 3,
   "metadata": {},
   "outputs": [],
   "source": [
    "library(readr)\n",
    "library(anytime)\n",
    "library(ggplot2)\n",
    "library(dplyr)\n",
    "library(lubridate)"
   ]
  },
  {
   "cell_type": "markdown",
   "metadata": {},
   "source": [
    "# Dates and Times in R\n",
    "\n",
    "R doesn't know something is a date or time unless you tell it. We'll explore some of the ways R stores dates and times by exploring how often R versions are released, and how quickly people download them."
   ]
  },
  {
   "cell_type": "markdown",
   "metadata": {},
   "source": [
    "## Introduction to dates\n",
    "\n",
    "\n",
    "> ### Dates\n",
    "- Different conventions in different places\n",
    "- 27th Feb 2013\n",
    "  - **NZ**: 27/2/2013\n",
    "  - **USA**: 2/27/2013\n",
    "\n",
    "> ### The global standard numeric date format\n",
    "![image.png](datasets/iso_announcement.png){% fn 1%}\n",
    "\n",
    "> ### ISO 8601 YYYY-MM-DD\n",
    "- Values ordered from the largest to smallest unit of time\n",
    "- Each has a xed number of digits, must be padded with leadingzeros\n",
    "- Either, no separators for computers, or - in dates\n",
    "  - 1st of January 2011 -> 2011-01-01\n",
    "\n",
    "> Dates in R\n",
    "- Packages that importd ates:`readr`,`anytime`\n"
   ]
  },
  {
   "cell_type": "code",
   "execution_count": 4,
   "metadata": {},
   "outputs": [
    {
     "data": {
      "text/html": [
       "1974"
      ],
      "text/latex": [
       "1974"
      ],
      "text/markdown": [
       "1974"
      ],
      "text/plain": [
       "[1] 1974"
      ]
     },
     "metadata": {},
     "output_type": "display_data"
    }
   ],
   "source": [
    "2003-02-27"
   ]
  },
  {
   "cell_type": "code",
   "execution_count": 5,
   "metadata": {},
   "outputs": [
    {
     "data": {
      "text/html": [
       "<time datetime=\"2003-02-27\">2003-02-27</time>"
      ],
      "text/latex": [
       "2003-02-27"
      ],
      "text/markdown": [
       "2003-02-27"
      ],
      "text/plain": [
       "[1] \"2003-02-27\""
      ]
     },
     "metadata": {},
     "output_type": "display_data"
    }
   ],
   "source": [
    "as.Date(\"2003-02-27\")"
   ]
  },
  {
   "cell_type": "code",
   "execution_count": 6,
   "metadata": {},
   "outputs": [
    {
     "data": {
      "text/html": [
       "'2003-02-27'"
      ],
      "text/latex": [
       "'2003-02-27'"
      ],
      "text/markdown": [
       "'2003-02-27'"
      ],
      "text/plain": [
       "[1] \"2003-02-27\""
      ]
     },
     "metadata": {},
     "output_type": "display_data"
    }
   ],
   "source": [
    "\"2003-02-27\""
   ]
  },
  {
   "cell_type": "code",
   "execution_count": 7,
   "metadata": {},
   "outputs": [
    {
     "name": "stdout",
     "output_type": "stream",
     "text": [
      " chr \"2003-02-27\"\n"
     ]
    }
   ],
   "source": [
    "str(\"2003-02-27\")"
   ]
  },
  {
   "cell_type": "code",
   "execution_count": 8,
   "metadata": {},
   "outputs": [
    {
     "name": "stdout",
     "output_type": "stream",
     "text": [
      " Date[1:1], format: \"2003-02-27\"\n"
     ]
    }
   ],
   "source": [
    "str(as.Date(\"2003-02-27\"))"
   ]
  },
  {
   "cell_type": "markdown",
   "metadata": {},
   "source": [
    "### Specifying dates\n",
    "\n",
    "R doesn't know something is a date unless you tell it. If you have a character string that represents a date in the ISO 8601 standard you can turn it into a [Date](https://www.rdocumentation.org/packages/base/versions/3.4.1/topics/Dates) using the [`as.Date()`](https://www.rdocumentation.org/packages/base/topics/as.Date) function. Just pass the character string (or a vector of character strings) as the first argument.\n",
    "\n",
    "We'll convert a character string representation of a date to a `Date` object."
   ]
  },
  {
   "cell_type": "code",
   "execution_count": 9,
   "metadata": {},
   "outputs": [
    {
     "name": "stdout",
     "output_type": "stream",
     "text": [
      " chr \"2013-04-03\"\n",
      " Date[1:1], format: \"2013-04-03\"\n"
     ]
    },
    {
     "data": {
      "text/html": [
       "<time datetime=\"2014-04-10\">2014-04-10</time>"
      ],
      "text/latex": [
       "2014-04-10"
      ],
      "text/markdown": [
       "2014-04-10"
      ],
      "text/plain": [
       "[1] \"2014-04-10\""
      ]
     },
     "metadata": {},
     "output_type": "display_data"
    }
   ],
   "source": [
    "# The date R 3.0.0 was released\n",
    "x <- \"2013-04-03\"\n",
    "\n",
    "# Examine structure of x\n",
    "str(x)\n",
    "\n",
    "# Use as.Date() to interpret x as a date\n",
    "x_date <- as.Date(x)\n",
    "\n",
    "# Examine structure of x_date\n",
    "str(x_date)\n",
    "\n",
    "# Store April 10 2014 as a Date\n",
    "april_10_2014 <- as.Date(\"2014-04-10\")\n",
    "april_10_2014"
   ]
  },
  {
   "cell_type": "markdown",
   "metadata": {},
   "source": [
    "### Automatic import\n",
    "\n",
    "Sometimes we'll need to input a couple of dates by hand using as.Date() but it's much more common to have a column of dates in a data file.\n",
    "\n",
    "Some functions that read in data will automatically recognize and parse dates in a variety of formats. In particular the import functions, like [`read_csv()`](https://www.rdocumentation.org/packages/readr/topics/read_csv), in the `readr` package will recognize dates in a few common formats.\n",
    "\n",
    "There is also the [`anytime()`](https://www.rdocumentation.org/packages/anytime/topics/anytime) function in the `anytime` package whose sole goal is to automatically parse strings as dates regardless of the format."
   ]
  },
  {
   "cell_type": "code",
   "execution_count": 10,
   "metadata": {},
   "outputs": [
    {
     "name": "stderr",
     "output_type": "stream",
     "text": [
      "Parsed with column specification:\n",
      "cols(\n",
      "  major = col_double(),\n",
      "  minor = col_double(),\n",
      "  patch = col_double(),\n",
      "  date = col_date(format = \"\"),\n",
      "  datetime = col_datetime(format = \"\"),\n",
      "  time = col_time(format = \"\"),\n",
      "  type = col_character()\n",
      ")\n"
     ]
    },
    {
     "name": "stdout",
     "output_type": "stream",
     "text": [
      " Date[1:105], format: \"1997-12-04\" \"1997-12-21\" \"1998-01-10\" \"1998-03-14\" \"1998-05-02\" ...\n"
     ]
    },
    {
     "data": {
      "text/plain": [
       "[1] \"2009-09-10 EAT\" \"2009-09-10 EAT\" \"2009-09-10 EAT\" \"2009-09-10 EAT\""
      ]
     },
     "metadata": {},
     "output_type": "display_data"
    }
   ],
   "source": [
    "# Use read_csv() to import rversions.csv\n",
    "releases <- read_csv('datasets/rversions.csv')\n",
    "\n",
    "# Examine the structure of the date column\n",
    "str(releases$date)\n",
    "\n",
    "# Various ways of writing Sep 10 2009\n",
    "sep_10_2009 <- c(\"September 10 2009\", \"2009-09-10\", \"10 Sep 2009\", \"09-10-2009\")\n",
    "\n",
    "# Use anytime() to parse sep_10_2009\n",
    "anytime(sep_10_2009)"
   ]
  },
  {
   "cell_type": "markdown",
   "metadata": {},
   "source": [
    "## Why use dates?\n",
    "\n",
    "> ### Dates act like numbers\n",
    "- Date objects are stored as days since 1970-01-01"
   ]
  },
  {
   "cell_type": "code",
   "execution_count": 11,
   "metadata": {},
   "outputs": [
    {
     "data": {
      "text/html": [
       "TRUE"
      ],
      "text/latex": [
       "TRUE"
      ],
      "text/markdown": [
       "TRUE"
      ],
      "text/plain": [
       "[1] TRUE"
      ]
     },
     "metadata": {},
     "output_type": "display_data"
    }
   ],
   "source": [
    "as.Date(\"2020-07-13\") > as.Date(\"2020-01-01\")"
   ]
  },
  {
   "cell_type": "code",
   "execution_count": 12,
   "metadata": {},
   "outputs": [
    {
     "data": {
      "text/html": [
       "<time datetime=\"2020-07-13\">2020-07-13</time>"
      ],
      "text/latex": [
       "2020-07-13"
      ],
      "text/markdown": [
       "2020-07-13"
      ],
      "text/plain": [
       "[1] \"2020-07-13\""
      ]
     },
     "metadata": {},
     "output_type": "display_data"
    }
   ],
   "source": [
    "as.Date(\"2020-07-10\") + 3"
   ]
  },
  {
   "cell_type": "code",
   "execution_count": 13,
   "metadata": {},
   "outputs": [
    {
     "data": {
      "text/plain": [
       "Time difference of 366 days"
      ]
     },
     "metadata": {},
     "output_type": "display_data"
    }
   ],
   "source": [
    "as.Date(\"2020-07-13\") - as.Date(\"2019-07-13\")"
   ]
  },
  {
   "cell_type": "markdown",
   "metadata": {},
   "source": [
    "> ### Plotting with dates"
   ]
  },
  {
   "cell_type": "code",
   "execution_count": 14,
   "metadata": {},
   "outputs": [
    {
     "data": {
      "image/png": "[encoded data removed]",
      "text/plain": [
       "plot without title"
      ]
     },
     "metadata": {},
     "output_type": "display_data"
    }
   ],
   "source": [
    "first_days = c(as.Date(\"2020-01-01\"), as.Date(\"2020-02-01\"), \n",
    "               as.Date(\"2020-03-01\"), as.Date(\"2020-04-01\"), \n",
    "               as.Date(\"2020-05-01\"), as.Date(\"2020-06-01\"), \n",
    "               as.Date(\"2020-07-01\"), as.Date(\"2020-08-01\"))\n",
    "plot(first_days, 1:8)"
   ]
  },
  {
   "cell_type": "code",
   "execution_count": 15,
   "metadata": {},
   "outputs": [
    {
     "data": {
      "image/png": "[encoded data removed]",
      "text/plain": [
       "plot without title"
      ]
     },
     "metadata": {},
     "output_type": "display_data"
    }
   ],
   "source": [
    "ggplot() + geom_point(aes(x=first_days, y=1:8))"
   ]
  },
  {
   "cell_type": "markdown",
   "metadata": {},
   "source": [
    "> ### R releases"
   ]
  },
  {
   "cell_type": "code",
   "execution_count": 16,
   "metadata": {},
   "outputs": [
    {
     "data": {
      "text/html": [
       "<table>\n",
       "<thead><tr><th scope=col>major</th><th scope=col>minor</th><th scope=col>patch</th><th scope=col>date</th><th scope=col>datetime</th><th scope=col>time</th><th scope=col>type</th></tr></thead>\n",
       "<tbody>\n",
       "\t<tr><td>0                  </td><td>60                 </td><td>NA                 </td><td>1997-12-04         </td><td>1997-12-04 08:47:58</td><td>08:47:58           </td><td>patch              </td></tr>\n",
       "\t<tr><td>0                  </td><td>61                 </td><td>NA                 </td><td>1997-12-21         </td><td>1997-12-21 13:09:22</td><td>13:09:22           </td><td>minor              </td></tr>\n",
       "\t<tr><td>0                  </td><td>61                 </td><td> 1                 </td><td>1998-01-10         </td><td>1998-01-10 00:31:55</td><td>00:31:55           </td><td>patch              </td></tr>\n",
       "\t<tr><td>0                  </td><td>61                 </td><td> 2                 </td><td>1998-03-14         </td><td>1998-03-14 19:25:55</td><td>19:25:55           </td><td>patch              </td></tr>\n",
       "\t<tr><td>0                  </td><td>61                 </td><td> 3                 </td><td>1998-05-02         </td><td>1998-05-02 07:58:17</td><td>07:58:17           </td><td>patch              </td></tr>\n",
       "\t<tr><td>0                  </td><td>62                 </td><td>NA                 </td><td>1998-06-14         </td><td>1998-06-14 12:56:20</td><td>12:56:20           </td><td>minor              </td></tr>\n",
       "</tbody>\n",
       "</table>\n"
      ],
      "text/latex": [
       "\\begin{tabular}{r|lllllll}\n",
       " major & minor & patch & date & datetime & time & type\\\\\n",
       "\\hline\n",
       "\t 0                   & 60                  & NA                  & 1997-12-04          & 1997-12-04 08:47:58 & 08:47:58            & patch              \\\\\n",
       "\t 0                   & 61                  & NA                  & 1997-12-21          & 1997-12-21 13:09:22 & 13:09:22            & minor              \\\\\n",
       "\t 0                   & 61                  &  1                  & 1998-01-10          & 1998-01-10 00:31:55 & 00:31:55            & patch              \\\\\n",
       "\t 0                   & 61                  &  2                  & 1998-03-14          & 1998-03-14 19:25:55 & 19:25:55            & patch              \\\\\n",
       "\t 0                   & 61                  &  3                  & 1998-05-02          & 1998-05-02 07:58:17 & 07:58:17            & patch              \\\\\n",
       "\t 0                   & 62                  & NA                  & 1998-06-14          & 1998-06-14 12:56:20 & 12:56:20            & minor              \\\\\n",
       "\\end{tabular}\n"
      ],
      "text/markdown": [
       "\n",
       "| major | minor | patch | date | datetime | time | type |\n",
       "|---|---|---|---|---|---|---|\n",
       "| 0                   | 60                  | NA                  | 1997-12-04          | 1997-12-04 08:47:58 | 08:47:58            | patch               |\n",
       "| 0                   | 61                  | NA                  | 1997-12-21          | 1997-12-21 13:09:22 | 13:09:22            | minor               |\n",
       "| 0                   | 61                  |  1                  | 1998-01-10          | 1998-01-10 00:31:55 | 00:31:55            | patch               |\n",
       "| 0                   | 61                  |  2                  | 1998-03-14          | 1998-03-14 19:25:55 | 19:25:55            | patch               |\n",
       "| 0                   | 61                  |  3                  | 1998-05-02          | 1998-05-02 07:58:17 | 07:58:17            | patch               |\n",
       "| 0                   | 62                  | NA                  | 1998-06-14          | 1998-06-14 12:56:20 | 12:56:20            | minor               |\n",
       "\n"
      ],
      "text/plain": [
       "  major minor patch date       datetime            time     type \n",
       "1 0     60    NA    1997-12-04 1997-12-04 08:47:58 08:47:58 patch\n",
       "2 0     61    NA    1997-12-21 1997-12-21 13:09:22 13:09:22 minor\n",
       "3 0     61     1    1998-01-10 1998-01-10 00:31:55 00:31:55 patch\n",
       "4 0     61     2    1998-03-14 1998-03-14 19:25:55 19:25:55 patch\n",
       "5 0     61     3    1998-05-02 1998-05-02 07:58:17 07:58:17 patch\n",
       "6 0     62    NA    1998-06-14 1998-06-14 12:56:20 12:56:20 minor"
      ]
     },
     "metadata": {},
     "output_type": "display_data"
    }
   ],
   "source": [
    "head(releases)"
   ]
  },
  {
   "cell_type": "markdown",
   "metadata": {},
   "source": [
    "### Plotting\n",
    "\n",
    "If you plot a `Date` on the axis of a plot, you expect the dates to be in calendar order, and that's exactly what happens with [`plot()`](https://www.rdocumentation.org/packages/graphics/topics/plot) or [`ggplot()`](https://www.rdocumentation.org/packages/ggplot2/topics/ggplot).\n",
    "\n",
    "We'll make some plots with the R version `releases` data using ggplot2. There are two big differences when a `Date` is on an axis:\n",
    "\n",
    "1. If you specify limits they must be Date objects.\n",
    "2. To control the behavior of the scale we'll use the `scale_x_date()` function."
   ]
  },
  {
   "cell_type": "code",
   "execution_count": 17,
   "metadata": {},
   "outputs": [
    {
     "name": "stderr",
     "output_type": "stream",
     "text": [
      "Warning message:\n",
      "\"Removed 87 row(s) containing missing values (geom_path).\""
     ]
    },
    {
     "data": {
      "image/png": "[encoded data removed]",
      "text/plain": [
       "plot without title"
      ]
     },
     "metadata": {},
     "output_type": "display_data"
    },
    {
     "data": {
      "image/png": "[encoded data removed]",
      "text/plain": [
       "plot without title"
      ]
     },
     "metadata": {},
     "output_type": "display_data"
    },
    {
     "data": {
      "image/png": "[encoded data removed]",
      "text/plain": [
       "plot without title"
      ]
     },
     "metadata": {},
     "output_type": "display_data"
    }
   ],
   "source": [
    "# Set the x axis to the date column\n",
    "ggplot(releases, aes(x = date, y = type)) +\n",
    "  geom_line(aes(group = 1, color = factor(major)))\n",
    "\n",
    "# Limit the axis to between 2010-01-01 and 2014-01-01\n",
    "ggplot(releases, aes(x = date, y = type)) +\n",
    "  geom_line(aes(group = 1, color = factor(major))) +\n",
    "  xlim(as.Date(\"2010-01-01\"), as.Date(\"2014-01-01\"))\n",
    "\n",
    "# Specify breaks every ten years and labels with \"%Y\"\n",
    "ggplot(releases, aes(x = date, y = type)) +\n",
    "  geom_line(aes(group = 1, color = factor(major))) +\n",
    "  scale_x_date(date_breaks = \"10 years\", date_labels = \"%Y\")"
   ]
  },
  {
   "cell_type": "markdown",
   "metadata": {},
   "source": [
    "### Arithmetic and logical operators\n",
    "\n",
    "Since `Date` objects are internally represented as the number of days since 1970-01-01 we can do basic math and comparisons with dates. We can compare dates with the usual [logical operators](https://www.rdocumentation.org/packages/base/topics/Comparison) (`<`, `==`, `>` etc.), find extremes with [`min()`](https://www.rdocumentation.org/packages/base/topics/min) and [`max()`](https://www.rdocumentation.org/packages/base/topics/max), and even subtract two dates to find out the time between them."
   ]
  },
  {
   "cell_type": "code",
   "execution_count": 18,
   "metadata": {},
   "outputs": [
    {
     "data": {
      "text/html": [
       "<table>\n",
       "<thead><tr><th scope=col>major</th><th scope=col>minor</th><th scope=col>patch</th><th scope=col>date</th><th scope=col>datetime</th><th scope=col>time</th><th scope=col>type</th></tr></thead>\n",
       "<tbody>\n",
       "\t<tr><td>3                  </td><td>4                  </td><td>1                  </td><td>2017-06-30         </td><td>2017-06-30 07:04:11</td><td>07:04:11           </td><td>patch              </td></tr>\n",
       "</tbody>\n",
       "</table>\n"
      ],
      "text/latex": [
       "\\begin{tabular}{r|lllllll}\n",
       " major & minor & patch & date & datetime & time & type\\\\\n",
       "\\hline\n",
       "\t 3                   & 4                   & 1                   & 2017-06-30          & 2017-06-30 07:04:11 & 07:04:11            & patch              \\\\\n",
       "\\end{tabular}\n"
      ],
      "text/markdown": [
       "\n",
       "| major | minor | patch | date | datetime | time | type |\n",
       "|---|---|---|---|---|---|---|\n",
       "| 3                   | 4                   | 1                   | 2017-06-30          | 2017-06-30 07:04:11 | 07:04:11            | patch               |\n",
       "\n"
      ],
      "text/plain": [
       "  major minor patch date       datetime            time     type \n",
       "1 3     4     1     2017-06-30 2017-06-30 07:04:11 07:04:11 patch"
      ]
     },
     "metadata": {},
     "output_type": "display_data"
    },
    {
     "data": {
      "text/plain": [
       "Time difference of 1109 days"
      ]
     },
     "metadata": {},
     "output_type": "display_data"
    }
   ],
   "source": [
    "# Find the largest date\n",
    "last_release_date <- max(releases$date)\n",
    "\n",
    "# Filter row for last release\n",
    "last_release <- filter(releases, date==last_release_date)\n",
    "\n",
    "# Print last_release\n",
    "last_release\n",
    "\n",
    "# How long since last release?\n",
    "Sys.Date() - last_release_date"
   ]
  },
  {
   "cell_type": "markdown",
   "metadata": {},
   "source": [
    " <a href=\"https://www.rdocumentation.org/packages/base/topics/Sys.date()\">`Sys.date()`</a>- in the code, it simply returns today's date."
   ]
  },
  {
   "cell_type": "markdown",
   "metadata": {},
   "source": [
    "## What about times?\n",
    "\n",
    "> ### ISO 8601\n",
    "- HH:MM:SS\n",
    "  - Largest unit to smallest\n",
    "  - Fixed digits\n",
    "    - Hours: 00 -- 24\n",
    "    - Minutes: 00 -- 59\n",
    "    - Seconds: 00 -- 60 (60 only for leap seconds)\n",
    "  - No separator or :\n",
    "\n",
    "\n",
    "> ### Datetimes in R\n",
    "- Two objects types:\n",
    "  - `POSIXlt` - list with named components\n",
    "  - `POSIXct` - seconds since 1970-01-01 00:00:00\n",
    "- `POSIXct` will go in a data frame\n",
    "- `as.POSIXct()` turns a string into a `POSIXct` object"
   ]
  },
  {
   "cell_type": "code",
   "execution_count": 19,
   "metadata": {},
   "outputs": [
    {
     "name": "stdout",
     "output_type": "stream",
     "text": [
      " POSIXct[1:1], format: \"1997-06-15 00:01:00\"\n"
     ]
    }
   ],
   "source": [
    "str(as.POSIXct(\"1997-06-15 00:01:00\"))"
   ]
  },
  {
   "cell_type": "markdown",
   "metadata": {},
   "source": [
    "> ### Timezones\n",
    "- `\"2013-02-27T18:00:00\"`-6pm localtime\n",
    "- `\"2013-02-27T18:00:00Z\"`-6pm UTC\n",
    "- `\"2013-02-27T18:00:00-08:00\"`-6pmin Oregon"
   ]
  },
  {
   "cell_type": "code",
   "execution_count": 20,
   "metadata": {},
   "outputs": [
    {
     "data": {
      "text/plain": [
       "[1] \"1997-06-15 EAT\""
      ]
     },
     "metadata": {},
     "output_type": "display_data"
    }
   ],
   "source": [
    "as.POSIXct(\"1997-06-15T18:00:59Z\")"
   ]
  },
  {
   "cell_type": "code",
   "execution_count": 21,
   "metadata": {},
   "outputs": [
    {
     "data": {
      "text/plain": [
       "[1] \"1997-06-15 UTC\""
      ]
     },
     "metadata": {},
     "output_type": "display_data"
    }
   ],
   "source": [
    "as.POSIXct(\"1997-06-15T18:00:59Z\", tz=\"UTC\")"
   ]
  },
  {
   "cell_type": "markdown",
   "metadata": {},
   "source": [
    "> ### Datetimes behave nicely too\n",
    "- Once a `POSIXct` object,datetimes can be:\n",
    "  - Compared\n",
    "  - Subtracted\n",
    "  - Plotted\n"
   ]
  },
  {
   "cell_type": "markdown",
   "metadata": {},
   "source": [
    "### Getting datetimes into R\n",
    "\n",
    "\n",
    "Just like dates without times, if you want R to recognize a string as a datetime you need to convert it, although now you use <a href=\"https://www.rdocumentation.org/packages/base/topics/as.POSIXct()\">`as.POSIXct()`</a>. `as.POSIXct()` expects strings to be in the format YYYY-MM-DD HH:MM:SS.\n",
    "\n",
    "The only tricky thing is that times will be interpreted in local time based on your machine's set up. You can check your timezone with [`Sys.timezone()`](https://www.rdocumentation.org/packages/base/topics/Sys.timezone). If you want the time to be interpreted in a different timezone, you just set the `tz` argument of `as.POSIXct()`."
   ]
  },
  {
   "cell_type": "code",
   "execution_count": 22,
   "metadata": {},
   "outputs": [
    {
     "data": {
      "text/html": [
       "'Africa/Nairobi'"
      ],
      "text/latex": [
       "'Africa/Nairobi'"
      ],
      "text/markdown": [
       "'Africa/Nairobi'"
      ],
      "text/plain": [
       "[1] \"Africa/Nairobi\""
      ]
     },
     "metadata": {},
     "output_type": "display_data"
    }
   ],
   "source": [
    "Sys.timezone()"
   ]
  },
  {
   "cell_type": "code",
   "execution_count": 23,
   "metadata": {},
   "outputs": [
    {
     "data": {
      "text/plain": [
       "[1] \"2010-10-01 12:12:00 EAT\""
      ]
     },
     "metadata": {},
     "output_type": "display_data"
    },
    {
     "data": {
      "text/plain": [
       "[1] \"2010-10-01 12:12:00 PDT\""
      ]
     },
     "metadata": {},
     "output_type": "display_data"
    },
    {
     "name": "stdout",
     "output_type": "stream",
     "text": [
      " POSIXct[1:105], format: \"1997-12-04 08:47:58\" \"1997-12-21 13:09:22\" \"1998-01-10 00:31:55\" ...\n"
     ]
    }
   ],
   "source": [
    "# Use as.POSIXct to enter the datetime \n",
    "as.POSIXct(\"2010-10-01 12:12:00\")\n",
    "\n",
    "# Use as.POSIXct again but set the timezone to `\"America/Los_Angeles\"`\n",
    "as.POSIXct(\"2010-10-01 12:12:00\", tz = \"America/Los_Angeles\")\n",
    "\n",
    "# Examine structure of datetime column\n",
    "str(releases$datetime)"
   ]
  },
  {
   "cell_type": "markdown",
   "metadata": {},
   "source": [
    "### Datetimes behave nicely too\n",
    "\n",
    "Just like `Date` objects, you can plot and do math with `POSIXct` objects. We'll see how quickly people download new versions of R, by examining the download logs from the RStudio CRAN mirror. R 3.2.0 was released at \"2015-04-16 07:13:33\" so `cran-logs_2015-04-17.csv` contains a random sample of downloads on the 16th, 17th and 18th."
   ]
  },
  {
   "cell_type": "code",
   "execution_count": 24,
   "metadata": {},
   "outputs": [
    {
     "name": "stderr",
     "output_type": "stream",
     "text": [
      "Parsed with column specification:\n",
      "cols(\n",
      "  datetime = col_datetime(format = \"\"),\n",
      "  r_version = col_character(),\n",
      "  country = col_character()\n",
      ")\n"
     ]
    },
    {
     "data": {
      "text/html": [
       "<table>\n",
       "<thead><tr><th scope=col>datetime</th><th scope=col>r_version</th><th scope=col>country</th></tr></thead>\n",
       "<tbody>\n",
       "\t<tr><td>2015-04-16 22:40:19</td><td>3.1.3              </td><td>CO                 </td></tr>\n",
       "\t<tr><td>2015-04-16 09:11:04</td><td>3.1.3              </td><td>GB                 </td></tr>\n",
       "\t<tr><td>2015-04-16 17:12:37</td><td>3.1.3              </td><td>DE                 </td></tr>\n",
       "\t<tr><td>2015-04-18 12:34:43</td><td>3.2.0              </td><td>GB                 </td></tr>\n",
       "\t<tr><td>2015-04-16 04:49:18</td><td>3.1.3              </td><td>PE                 </td></tr>\n",
       "\t<tr><td>2015-04-16 06:40:44</td><td>3.1.3              </td><td>TW                 </td></tr>\n",
       "</tbody>\n",
       "</table>\n"
      ],
      "text/latex": [
       "\\begin{tabular}{r|lll}\n",
       " datetime & r\\_version & country\\\\\n",
       "\\hline\n",
       "\t 2015-04-16 22:40:19 & 3.1.3               & CO                 \\\\\n",
       "\t 2015-04-16 09:11:04 & 3.1.3               & GB                 \\\\\n",
       "\t 2015-04-16 17:12:37 & 3.1.3               & DE                 \\\\\n",
       "\t 2015-04-18 12:34:43 & 3.2.0               & GB                 \\\\\n",
       "\t 2015-04-16 04:49:18 & 3.1.3               & PE                 \\\\\n",
       "\t 2015-04-16 06:40:44 & 3.1.3               & TW                 \\\\\n",
       "\\end{tabular}\n"
      ],
      "text/markdown": [
       "\n",
       "| datetime | r_version | country |\n",
       "|---|---|---|\n",
       "| 2015-04-16 22:40:19 | 3.1.3               | CO                  |\n",
       "| 2015-04-16 09:11:04 | 3.1.3               | GB                  |\n",
       "| 2015-04-16 17:12:37 | 3.1.3               | DE                  |\n",
       "| 2015-04-18 12:34:43 | 3.2.0               | GB                  |\n",
       "| 2015-04-16 04:49:18 | 3.1.3               | PE                  |\n",
       "| 2015-04-16 06:40:44 | 3.1.3               | TW                  |\n",
       "\n"
      ],
      "text/plain": [
       "  datetime            r_version country\n",
       "1 2015-04-16 22:40:19 3.1.3     CO     \n",
       "2 2015-04-16 09:11:04 3.1.3     GB     \n",
       "3 2015-04-16 17:12:37 3.1.3     DE     \n",
       "4 2015-04-18 12:34:43 3.2.0     GB     \n",
       "5 2015-04-16 04:49:18 3.1.3     PE     \n",
       "6 2015-04-16 06:40:44 3.1.3     TW     "
      ]
     },
     "metadata": {},
     "output_type": "display_data"
    }
   ],
   "source": [
    "# Import \"cran-logs_2015-04-17.csv\" with read_csv()\n",
    "logs <- read_csv(\"datasets/cran-logs_2015-04-17.csv\")\n",
    "\n",
    "# Print logs\n",
    "head(logs)"
   ]
  },
  {
   "cell_type": "code",
   "execution_count": 25,
   "metadata": {},
   "outputs": [
    {
     "data": {
      "text/html": [
       "<table>\n",
       "<thead><tr><th scope=col>datetime</th><th scope=col>r_version</th><th scope=col>country</th></tr></thead>\n",
       "<tbody>\n",
       "</tbody>\n",
       "</table>\n"
      ],
      "text/latex": [
       "\\begin{tabular}{r|lll}\n",
       " datetime & r\\_version & country\\\\\n",
       "\\hline\n",
       "\\end{tabular}\n"
      ],
      "text/markdown": [
       "\n",
       "| datetime | r_version | country |\n",
       "|---|---|---|\n",
       "\n"
      ],
      "text/plain": [
       "     datetime r_version country"
      ]
     },
     "metadata": {},
     "output_type": "display_data"
    },
    {
     "name": "stderr",
     "output_type": "stream",
     "text": [
      "`stat_bin()` using `bins = 30`. Pick better value with `binwidth`.\n"
     ]
    },
    {
     "data": {
      "image/png": "[encoded data removed]",
      "text/plain": [
       "plot without title"
      ]
     },
     "metadata": {},
     "output_type": "display_data"
    }
   ],
   "source": [
    "# Store the release time as a POSIXct object\n",
    "release_time <- as.POSIXct(\"2015-04-16 07:13:33\", tz = \"UTC\")\n",
    "\n",
    "# When is the first download of 3.2.0?\n",
    "logs %>% \n",
    "  filter(datetime==release_time,\n",
    "    r_version == \"3.2.0\")\n",
    "\n",
    "# Examine histograms of downloads by version\n",
    "ggplot(logs, aes(x = datetime)) +\n",
    "  geom_histogram() +\n",
    "  geom_vline(aes(xintercept = as.numeric(release_time)))+\n",
    "  facet_wrap(~ r_version, ncol = 1)"
   ]
  },
  {
   "cell_type": "markdown",
   "metadata": {},
   "source": [
    "it takes about two days for downloads of the new version (3.2.0) to overtake downloads of the old version (3.1.3)"
   ]
  },
  {
   "cell_type": "markdown",
   "metadata": {},
   "source": [
    "## Why lubridate?\n",
    "\n",
    "\n",
    "> ### lubridate\n",
    "- Make working with dates and times in R easy!\n",
    "- `tidyverse` package\n",
    "  - Plays nicely with builtin datetime objects\n",
    "  - Designed for humans not computers\n",
    "- Plays nicely with other `tidyverse` packages\n",
    "- Consistent behaviour regardless of underlying object\n",
    "\n",
    "\n",
    "> ### Parsing a wide range of formats"
   ]
  },
  {
   "cell_type": "code",
   "execution_count": 26,
   "metadata": {},
   "outputs": [
    {
     "data": {
      "text/html": [
       "<time datetime=\"1997-06-15\">1997-06-15</time>"
      ],
      "text/latex": [
       "1997-06-15"
      ],
      "text/markdown": [
       "1997-06-15"
      ],
      "text/plain": [
       "[1] \"1997-06-15\""
      ]
     },
     "metadata": {},
     "output_type": "display_data"
    }
   ],
   "source": [
    "ymd(\"1997-06-15\")"
   ]
  },
  {
   "cell_type": "code",
   "execution_count": 27,
   "metadata": {},
   "outputs": [
    {
     "data": {
      "text/html": [
       "<time datetime=\"1997-06-15\">1997-06-15</time>"
      ],
      "text/latex": [
       "1997-06-15"
      ],
      "text/markdown": [
       "1997-06-15"
      ],
      "text/plain": [
       "[1] \"1997-06-15\""
      ]
     },
     "metadata": {},
     "output_type": "display_data"
    }
   ],
   "source": [
    "dmy(\"15/06/97\")"
   ]
  },
  {
   "cell_type": "code",
   "execution_count": 28,
   "metadata": {},
   "outputs": [
    {
     "data": {
      "text/plain": [
       "[1] \"1997-06-15 UTC\" \"1997-06-15 UTC\""
      ]
     },
     "metadata": {},
     "output_type": "display_data"
    }
   ],
   "source": [
    "parse_date_time(c(\"June 15th, 1997\", \"15th June, 1997\"), order=c(\"mdy\", \"dmy\"))"
   ]
  },
  {
   "cell_type": "markdown",
   "metadata": {},
   "source": [
    "> ### Manipulating datetimes"
   ]
  },
  {
   "cell_type": "code",
   "execution_count": 29,
   "metadata": {},
   "outputs": [
    {
     "name": "stderr",
     "output_type": "stream",
     "text": [
      "Parsed with column specification:\n",
      "cols(\n",
      "  date = col_character(),\n",
      "  max_temp = col_double(),\n",
      "  min_temp = col_double(),\n",
      "  mean_temp = col_double(),\n",
      "  mean_rh = col_double(),\n",
      "  events = col_character(),\n",
      "  cloud_cover = col_double()\n",
      ")\n"
     ]
    },
    {
     "data": {
      "text/html": [
       "<table>\n",
       "<thead><tr><th scope=col>date</th><th scope=col>max_temp</th><th scope=col>min_temp</th><th scope=col>mean_temp</th><th scope=col>mean_rh</th><th scope=col>events</th><th scope=col>cloud_cover</th></tr></thead>\n",
       "<tbody>\n",
       "\t<tr><td>2007-9-1</td><td>60      </td><td>51      </td><td>56      </td><td>75      </td><td>NA      </td><td>4       </td></tr>\n",
       "\t<tr><td>2007-9-2</td><td>60      </td><td>53      </td><td>56      </td><td>82      </td><td>Rain    </td><td>4       </td></tr>\n",
       "\t<tr><td>2007-9-3</td><td>57      </td><td>51      </td><td>54      </td><td>78      </td><td>NA      </td><td>6       </td></tr>\n",
       "\t<tr><td>2007-9-4</td><td>64      </td><td>50      </td><td>57      </td><td>80      </td><td>Rain    </td><td>6       </td></tr>\n",
       "\t<tr><td>2007-9-5</td><td>53      </td><td>48      </td><td>50      </td><td>90      </td><td>Rain    </td><td>7       </td></tr>\n",
       "\t<tr><td>2007-9-6</td><td>57      </td><td>42      </td><td>50      </td><td>69      </td><td>NA      </td><td>1       </td></tr>\n",
       "</tbody>\n",
       "</table>\n"
      ],
      "text/latex": [
       "\\begin{tabular}{r|lllllll}\n",
       " date & max\\_temp & min\\_temp & mean\\_temp & mean\\_rh & events & cloud\\_cover\\\\\n",
       "\\hline\n",
       "\t 2007-9-1 & 60       & 51       & 56       & 75       & NA       & 4       \\\\\n",
       "\t 2007-9-2 & 60       & 53       & 56       & 82       & Rain     & 4       \\\\\n",
       "\t 2007-9-3 & 57       & 51       & 54       & 78       & NA       & 6       \\\\\n",
       "\t 2007-9-4 & 64       & 50       & 57       & 80       & Rain     & 6       \\\\\n",
       "\t 2007-9-5 & 53       & 48       & 50       & 90       & Rain     & 7       \\\\\n",
       "\t 2007-9-6 & 57       & 42       & 50       & 69       & NA       & 1       \\\\\n",
       "\\end{tabular}\n"
      ],
      "text/markdown": [
       "\n",
       "| date | max_temp | min_temp | mean_temp | mean_rh | events | cloud_cover |\n",
       "|---|---|---|---|---|---|---|\n",
       "| 2007-9-1 | 60       | 51       | 56       | 75       | NA       | 4        |\n",
       "| 2007-9-2 | 60       | 53       | 56       | 82       | Rain     | 4        |\n",
       "| 2007-9-3 | 57       | 51       | 54       | 78       | NA       | 6        |\n",
       "| 2007-9-4 | 64       | 50       | 57       | 80       | Rain     | 6        |\n",
       "| 2007-9-5 | 53       | 48       | 50       | 90       | Rain     | 7        |\n",
       "| 2007-9-6 | 57       | 42       | 50       | 69       | NA       | 1        |\n",
       "\n"
      ],
      "text/plain": [
       "  date     max_temp min_temp mean_temp mean_rh events cloud_cover\n",
       "1 2007-9-1 60       51       56        75      NA     4          \n",
       "2 2007-9-2 60       53       56        82      Rain   4          \n",
       "3 2007-9-3 57       51       54        78      NA     6          \n",
       "4 2007-9-4 64       50       57        80      Rain   6          \n",
       "5 2007-9-5 53       48       50        90      Rain   7          \n",
       "6 2007-9-6 57       42       50        69      NA     1          "
      ]
     },
     "metadata": {},
     "output_type": "display_data"
    }
   ],
   "source": [
    "akl_daily = read_csv(\"datasets/akl_weather_daily.csv\")\n",
    "head(akl_daily)"
   ]
  },
  {
   "cell_type": "code",
   "execution_count": 30,
   "metadata": {},
   "outputs": [
    {
     "data": {
      "text/html": [
       "<table>\n",
       "<thead><tr><th scope=col>date</th><th scope=col>max_temp</th><th scope=col>min_temp</th><th scope=col>mean_temp</th><th scope=col>mean_rh</th><th scope=col>events</th><th scope=col>cloud_cover</th><th scope=col>year</th><th scope=col>yday</th><th scope=col>month</th></tr></thead>\n",
       "<tbody>\n",
       "\t<tr><td>2007-9-1</td><td>60      </td><td>51      </td><td>56      </td><td>75      </td><td>NA      </td><td>4       </td><td>2007    </td><td>244     </td><td>Sep     </td></tr>\n",
       "\t<tr><td>2007-9-2</td><td>60      </td><td>53      </td><td>56      </td><td>82      </td><td>Rain    </td><td>4       </td><td>2007    </td><td>245     </td><td>Sep     </td></tr>\n",
       "\t<tr><td>2007-9-3</td><td>57      </td><td>51      </td><td>54      </td><td>78      </td><td>NA      </td><td>6       </td><td>2007    </td><td>246     </td><td>Sep     </td></tr>\n",
       "\t<tr><td>2007-9-4</td><td>64      </td><td>50      </td><td>57      </td><td>80      </td><td>Rain    </td><td>6       </td><td>2007    </td><td>247     </td><td>Sep     </td></tr>\n",
       "\t<tr><td>2007-9-5</td><td>53      </td><td>48      </td><td>50      </td><td>90      </td><td>Rain    </td><td>7       </td><td>2007    </td><td>248     </td><td>Sep     </td></tr>\n",
       "\t<tr><td>2007-9-6</td><td>57      </td><td>42      </td><td>50      </td><td>69      </td><td>NA      </td><td>1       </td><td>2007    </td><td>249     </td><td>Sep     </td></tr>\n",
       "</tbody>\n",
       "</table>\n"
      ],
      "text/latex": [
       "\\begin{tabular}{r|llllllllll}\n",
       " date & max\\_temp & min\\_temp & mean\\_temp & mean\\_rh & events & cloud\\_cover & year & yday & month\\\\\n",
       "\\hline\n",
       "\t 2007-9-1 & 60       & 51       & 56       & 75       & NA       & 4        & 2007     & 244      & Sep     \\\\\n",
       "\t 2007-9-2 & 60       & 53       & 56       & 82       & Rain     & 4        & 2007     & 245      & Sep     \\\\\n",
       "\t 2007-9-3 & 57       & 51       & 54       & 78       & NA       & 6        & 2007     & 246      & Sep     \\\\\n",
       "\t 2007-9-4 & 64       & 50       & 57       & 80       & Rain     & 6        & 2007     & 247      & Sep     \\\\\n",
       "\t 2007-9-5 & 53       & 48       & 50       & 90       & Rain     & 7        & 2007     & 248      & Sep     \\\\\n",
       "\t 2007-9-6 & 57       & 42       & 50       & 69       & NA       & 1        & 2007     & 249      & Sep     \\\\\n",
       "\\end{tabular}\n"
      ],
      "text/markdown": [
       "\n",
       "| date | max_temp | min_temp | mean_temp | mean_rh | events | cloud_cover | year | yday | month |\n",
       "|---|---|---|---|---|---|---|---|---|---|\n",
       "| 2007-9-1 | 60       | 51       | 56       | 75       | NA       | 4        | 2007     | 244      | Sep      |\n",
       "| 2007-9-2 | 60       | 53       | 56       | 82       | Rain     | 4        | 2007     | 245      | Sep      |\n",
       "| 2007-9-3 | 57       | 51       | 54       | 78       | NA       | 6        | 2007     | 246      | Sep      |\n",
       "| 2007-9-4 | 64       | 50       | 57       | 80       | Rain     | 6        | 2007     | 247      | Sep      |\n",
       "| 2007-9-5 | 53       | 48       | 50       | 90       | Rain     | 7        | 2007     | 248      | Sep      |\n",
       "| 2007-9-6 | 57       | 42       | 50       | 69       | NA       | 1        | 2007     | 249      | Sep      |\n",
       "\n"
      ],
      "text/plain": [
       "  date     max_temp min_temp mean_temp mean_rh events cloud_cover year yday\n",
       "1 2007-9-1 60       51       56        75      NA     4           2007 244 \n",
       "2 2007-9-2 60       53       56        82      Rain   4           2007 245 \n",
       "3 2007-9-3 57       51       54        78      NA     6           2007 246 \n",
       "4 2007-9-4 64       50       57        80      Rain   6           2007 247 \n",
       "5 2007-9-5 53       48       50        90      Rain   7           2007 248 \n",
       "6 2007-9-6 57       42       50        69      NA     1           2007 249 \n",
       "  month\n",
       "1 Sep  \n",
       "2 Sep  \n",
       "3 Sep  \n",
       "4 Sep  \n",
       "5 Sep  \n",
       "6 Sep  "
      ]
     },
     "metadata": {},
     "output_type": "display_data"
    }
   ],
   "source": [
    "akl_daily_m <- akl_daily %>%\n",
    "    mutate(\n",
    "        year = year(date),\n",
    "        yday = yday(date),\n",
    "        month = month(date, label=TRUE)\n",
    "    )\n",
    "head(akl_daily_m)"
   ]
  },
  {
   "cell_type": "markdown",
   "metadata": {},
   "source": [
    "> ### Other lubridate features\n",
    "- Handling timezones\n",
    "- Fast parsing of standard formats\n",
    "- Outputting datetimes\n"
   ]
  },
  {
   "cell_type": "markdown",
   "metadata": {},
   "source": [
    "# Parsing and Manipulating Dates and Times with lubridate\n",
    "\n",
    "Dates and times come in a huge assortment of formats, so the first hurdle is often to parse the format you have into an R datetime. We will explore how to import dates and times with the lubridate package. We'll also explore how to extract parts of a datetime. We'll practice by exploring the weather in R's birthplace, Auckland NZ."
   ]
  },
  {
   "cell_type": "markdown",
   "metadata": {},
   "source": [
    "## Parsing dates with lubridate\n",
    "\n",
    "> ### ymd()\n",
    "- 27th of February 2013\n",
    "- `ymd()` - year, then month, then day"
   ]
  },
  {
   "cell_type": "code",
   "execution_count": 31,
   "metadata": {},
   "outputs": [
    {
     "data": {
      "text/html": [
       "<time datetime=\"1997-06-15\">1997-06-15</time>"
      ],
      "text/latex": [
       "1997-06-15"
      ],
      "text/markdown": [
       "1997-06-15"
      ],
      "text/plain": [
       "[1] \"1997-06-15\""
      ]
     },
     "metadata": {},
     "output_type": "display_data"
    }
   ],
   "source": [
    "ymd(\"1997-06-15\")"
   ]
  },
  {
   "cell_type": "code",
   "execution_count": 32,
   "metadata": {},
   "outputs": [
    {
     "data": {
      "text/html": [
       "<time datetime=\"1997-06-15\">1997-06-15</time>"
      ],
      "text/latex": [
       "1997-06-15"
      ],
      "text/markdown": [
       "1997-06-15"
      ],
      "text/plain": [
       "[1] \"1997-06-15\""
      ]
     },
     "metadata": {},
     "output_type": "display_data"
    }
   ],
   "source": [
    "ymd(\"97/6/15\")"
   ]
  },
  {
   "cell_type": "code",
   "execution_count": 33,
   "metadata": {},
   "outputs": [
    {
     "data": {
      "text/html": [
       "<time datetime=\"1997-06-15\">1997-06-15</time>"
      ],
      "text/latex": [
       "1997-06-15"
      ],
      "text/markdown": [
       "1997-06-15"
      ],
      "text/plain": [
       "[1] \"1997-06-15\""
      ]
     },
     "metadata": {},
     "output_type": "display_data"
    }
   ],
   "source": [
    "ymd(\"97t6t15\")"
   ]
  },
  {
   "cell_type": "markdown",
   "metadata": {},
   "source": [
    "> ### Friends of ymd()\n",
    "- `ymd()`,`ydm()`,`mdy()`,`myd()`,`dmy()`,`dym()`, `dmy_hm()`\n",
    "- `parse_date_time(x = ___, order = ___)`\n",
    "\n",
    "> ### Formatting characters\n",
    "|Character|Meaning||Character|Meaning|\n",
    "|---|---|---|---|---|\n",
    "|`d`|numeric day of the month||`a`|Abbreviated weekday|\n",
    "|`m`|month of the year||`A`|Full weekday|\n",
    "|`y`|Year with century||`b`|Abbreviated month name|\n",
    "|`Y`|year without century||`B`|full month name|\n",
    "|`H`|hours (24 hours)||`I`|hours (12 hour)|\n",
    "|`M`|minutes||`P`|AM/PM|\n",
    "|`z`|Timezone, offset||||"
   ]
  },
  {
   "cell_type": "markdown",
   "metadata": {},
   "source": [
    "### Selecting the right parsing function\n",
    "\n",
    "`lubridate` provides a set of functions for parsing dates of a known order. For example, [`ymd()`](https://www.rdocumentation.org/packages/lubridate/topics/ymd) will parse dates with year first, followed by month and then day. The parsing is flexible, for example, it will parse the `m` whether it is numeric (e.g. `9` or `09`), a full month name (e.g. `September`), or an abbreviated month name (e.g. `Sep`).\n",
    "\n",
    "All the functions with `y`, `m` and `d` in any order exist. If the dates have times as well, you can use the functions that start with `ymd`, `dmy`, `mdy` or `ydm` and are followed by any of `_h`, `_hm` or [`_hms`](https://www.rdocumentation.org/packages/lubridate/topics/ymd_hms)."
   ]
  },
  {
   "cell_type": "code",
   "execution_count": 34,
   "metadata": {},
   "outputs": [
    {
     "data": {
      "text/html": [
       "<time datetime=\"2010-09-20\">2010-09-20</time>"
      ],
      "text/latex": [
       "2010-09-20"
      ],
      "text/markdown": [
       "2010-09-20"
      ],
      "text/plain": [
       "[1] \"2010-09-20\""
      ]
     },
     "metadata": {},
     "output_type": "display_data"
    },
    {
     "data": {
      "text/html": [
       "<time datetime=\"2010-01-02\">2010-01-02</time>"
      ],
      "text/latex": [
       "2010-01-02"
      ],
      "text/markdown": [
       "2010-01-02"
      ],
      "text/plain": [
       "[1] \"2010-01-02\""
      ]
     },
     "metadata": {},
     "output_type": "display_data"
    },
    {
     "data": {
      "text/plain": [
       "[1] \"2010-09-12 14:00:00 UTC\""
      ]
     },
     "metadata": {},
     "output_type": "display_data"
    }
   ],
   "source": [
    "# Parse x \n",
    "x <- \"2010 September 20th\" # 2010-09-20\n",
    "ymd(x)\n",
    "\n",
    "# Parse y \n",
    "y <- \"02.01.2010\"  # 2010-01-02\n",
    "dmy(y)\n",
    "\n",
    "# Parse z \n",
    "z <- \"Sep, 12th 2010 14:00\"  # 2010-09-12T14:00\n",
    "mdy_hm(z)"
   ]
  },
  {
   "cell_type": "markdown",
   "metadata": {},
   "source": [
    "### Specifying an order with `parse_date_time()`\n",
    "\n",
    "What about if you have something in a really weird order like `dym_msh`?There's no named function just for that order, but that is where [`parse_date_time()`](https://www.rdocumentation.org/packages/lubridate/topics/parse_date_time) comes in. `parse_date_time()` takes an additional argument, `orders`, where you can specify the order of the components in the date. \n",
    "\n",
    "For example, to parse `\"2010 September 20th\"` you could say `parse_date_time(\"2010 September 20th\", orders = \"ymd\")` and that would be equivalent to using the `ymd()` function from the previous exercise.\n",
    "\n",
    "One advantage of `parse_date_time()` is that you can use more format characters. For example, you can specify weekday names with `A`, `I` for 12 hour time, am/pm indicators with `p` and many others. Another big advantage is that you can specify a vector of orders, and that allows parsing of dates where multiple formats might be used."
   ]
  },
  {
   "cell_type": "code",
   "execution_count": 35,
   "metadata": {},
   "outputs": [
    {
     "data": {
      "text/plain": [
       "[1] \"2010-06-01 16:00:00 UTC\""
      ]
     },
     "metadata": {},
     "output_type": "display_data"
    },
    {
     "data": {
      "text/plain": [
       "[1] \"2001-10-07 UTC\" \"2002-10-13 UTC\" \"2003-04-13 UTC\" \"2005-04-17 UTC\"\n",
       "[5] \"2017-04-23 UTC\""
      ]
     },
     "metadata": {},
     "output_type": "display_data"
    },
    {
     "data": {
      "text/plain": [
       "[1] \"1282-12-11 UTC\" \"1372-05-01 UTC\" \"1253-01-01 UTC\""
      ]
     },
     "metadata": {},
     "output_type": "display_data"
    }
   ],
   "source": [
    "# Specify an order string to parse x\n",
    "x <- \"Monday June 1st 2010 at 4pm\"\n",
    "parse_date_time(x, orders = \"ABdyIp\")\n",
    "\n",
    "# Specify order to include both \"mdy\" and \"dmy\"\n",
    "two_orders <- c(\"October 7, 2001\", \"October 13, 2002\", \"April 13, 2003\", \n",
    "  \"17 April 2005\", \"23 April 2017\")\n",
    "parse_date_time(two_orders, orders = c(\"Bdy\", \"Bdy\", \"Bdy\", \"dBy\", \"dBy\"))\n",
    "\n",
    "# Specify order to include \"dOmY\", \"OmY\" and \"Y\"\n",
    "short_dates <- c(\"11 December 1282\", \"May 1372\", \"1253\")\n",
    "parse_date_time(short_dates, orders = c(\"d0mY\", \"0mY\", \"Y\"))\n"
   ]
  },
  {
   "cell_type": "markdown",
   "metadata": {},
   "source": [
    "> Note:  when a date component is missing, it's just set to `1`? For example, the input `1253` resulted in the date `1253-01-01`."
   ]
  },
  {
   "cell_type": "markdown",
   "metadata": {},
   "source": [
    "## Weather in Auckland\n",
    "\n",
    "> ### make_date(year, month, day)"
   ]
  },
  {
   "cell_type": "code",
   "execution_count": 36,
   "metadata": {},
   "outputs": [
    {
     "data": {
      "text/html": [
       "<time datetime=\"1997-06-15\">1997-06-15</time>"
      ],
      "text/latex": [
       "1997-06-15"
      ],
      "text/markdown": [
       "1997-06-15"
      ],
      "text/plain": [
       "[1] \"1997-06-15\""
      ]
     },
     "metadata": {},
     "output_type": "display_data"
    }
   ],
   "source": [
    "make_date(year=1997, month=6, day=15)"
   ]
  },
  {
   "cell_type": "markdown",
   "metadata": {},
   "source": [
    "`make_datetime(year, month, day, hour, min, sec)` for datetimes\n",
    "\n",
    "> ### dplyr Review\n",
    "- `mutate()` - add new columns (or overwrite old ones)\n",
    "- `filter()` - subset rows\n",
    "- `select()` - subset columns\n",
    "- `arrange()` - order rows\n",
    "- `summarise()` - summarise rows\n",
    "- `group_by()` - useful in conjuction with `summarise()`\n"
   ]
  },
  {
   "cell_type": "markdown",
   "metadata": {},
   "source": [
    "### Import daily weather data\n",
    "\n",
    "In practice you won't be parsing isolated dates and times, they'll be part of a larger dataset. We'll be working with weather data from Auckland NZ.\n",
    "\n",
    "There are two data sets: \n",
    "- `akl_weather_daily.csv` a set of once daily summaries for 10 years, and \n",
    "- `akl_weather_hourly_2016.csv` observations every half hour for 2016."
   ]
  },
  {
   "cell_type": "code",
   "execution_count": 37,
   "metadata": {},
   "outputs": [
    {
     "name": "stderr",
     "output_type": "stream",
     "text": [
      "Parsed with column specification:\n",
      "cols(\n",
      "  date = col_character(),\n",
      "  max_temp = col_double(),\n",
      "  min_temp = col_double(),\n",
      "  mean_temp = col_double(),\n",
      "  mean_rh = col_double(),\n",
      "  events = col_character(),\n",
      "  cloud_cover = col_double()\n",
      ")\n"
     ]
    },
    {
     "data": {
      "text/html": [
       "<table>\n",
       "<thead><tr><th scope=col>date</th><th scope=col>max_temp</th><th scope=col>min_temp</th><th scope=col>mean_temp</th><th scope=col>mean_rh</th><th scope=col>events</th><th scope=col>cloud_cover</th></tr></thead>\n",
       "<tbody>\n",
       "\t<tr><td>2007-9-1</td><td>60      </td><td>51      </td><td>56      </td><td>75      </td><td>NA      </td><td>4       </td></tr>\n",
       "\t<tr><td>2007-9-2</td><td>60      </td><td>53      </td><td>56      </td><td>82      </td><td>Rain    </td><td>4       </td></tr>\n",
       "\t<tr><td>2007-9-3</td><td>57      </td><td>51      </td><td>54      </td><td>78      </td><td>NA      </td><td>6       </td></tr>\n",
       "\t<tr><td>2007-9-4</td><td>64      </td><td>50      </td><td>57      </td><td>80      </td><td>Rain    </td><td>6       </td></tr>\n",
       "\t<tr><td>2007-9-5</td><td>53      </td><td>48      </td><td>50      </td><td>90      </td><td>Rain    </td><td>7       </td></tr>\n",
       "\t<tr><td>2007-9-6</td><td>57      </td><td>42      </td><td>50      </td><td>69      </td><td>NA      </td><td>1       </td></tr>\n",
       "</tbody>\n",
       "</table>\n"
      ],
      "text/latex": [
       "\\begin{tabular}{r|lllllll}\n",
       " date & max\\_temp & min\\_temp & mean\\_temp & mean\\_rh & events & cloud\\_cover\\\\\n",
       "\\hline\n",
       "\t 2007-9-1 & 60       & 51       & 56       & 75       & NA       & 4       \\\\\n",
       "\t 2007-9-2 & 60       & 53       & 56       & 82       & Rain     & 4       \\\\\n",
       "\t 2007-9-3 & 57       & 51       & 54       & 78       & NA       & 6       \\\\\n",
       "\t 2007-9-4 & 64       & 50       & 57       & 80       & Rain     & 6       \\\\\n",
       "\t 2007-9-5 & 53       & 48       & 50       & 90       & Rain     & 7       \\\\\n",
       "\t 2007-9-6 & 57       & 42       & 50       & 69       & NA       & 1       \\\\\n",
       "\\end{tabular}\n"
      ],
      "text/markdown": [
       "\n",
       "| date | max_temp | min_temp | mean_temp | mean_rh | events | cloud_cover |\n",
       "|---|---|---|---|---|---|---|\n",
       "| 2007-9-1 | 60       | 51       | 56       | 75       | NA       | 4        |\n",
       "| 2007-9-2 | 60       | 53       | 56       | 82       | Rain     | 4        |\n",
       "| 2007-9-3 | 57       | 51       | 54       | 78       | NA       | 6        |\n",
       "| 2007-9-4 | 64       | 50       | 57       | 80       | Rain     | 6        |\n",
       "| 2007-9-5 | 53       | 48       | 50       | 90       | Rain     | 7        |\n",
       "| 2007-9-6 | 57       | 42       | 50       | 69       | NA       | 1        |\n",
       "\n"
      ],
      "text/plain": [
       "  date     max_temp min_temp mean_temp mean_rh events cloud_cover\n",
       "1 2007-9-1 60       51       56        75      NA     4          \n",
       "2 2007-9-2 60       53       56        82      Rain   4          \n",
       "3 2007-9-3 57       51       54        78      NA     6          \n",
       "4 2007-9-4 64       50       57        80      Rain   6          \n",
       "5 2007-9-5 53       48       50        90      Rain   7          \n",
       "6 2007-9-6 57       42       50        69      NA     1          "
      ]
     },
     "metadata": {},
     "output_type": "display_data"
    }
   ],
   "source": [
    "# Import CSV with read_csv()\n",
    "akl_daily_raw <- read_csv(\"datasets/akl_weather_daily.csv\")\n",
    "\n",
    "# Print akl_daily_raw\n",
    "head(akl_daily_raw)"
   ]
  },
  {
   "cell_type": "code",
   "execution_count": 38,
   "metadata": {},
   "outputs": [
    {
     "data": {
      "text/html": [
       "<table>\n",
       "<thead><tr><th scope=col>date</th><th scope=col>max_temp</th><th scope=col>min_temp</th><th scope=col>mean_temp</th><th scope=col>mean_rh</th><th scope=col>events</th><th scope=col>cloud_cover</th></tr></thead>\n",
       "<tbody>\n",
       "\t<tr><td>2007-09-01</td><td>60        </td><td>51        </td><td>56        </td><td>75        </td><td>NA        </td><td>4         </td></tr>\n",
       "\t<tr><td>2007-09-02</td><td>60        </td><td>53        </td><td>56        </td><td>82        </td><td>Rain      </td><td>4         </td></tr>\n",
       "\t<tr><td>2007-09-03</td><td>57        </td><td>51        </td><td>54        </td><td>78        </td><td>NA        </td><td>6         </td></tr>\n",
       "\t<tr><td>2007-09-04</td><td>64        </td><td>50        </td><td>57        </td><td>80        </td><td>Rain      </td><td>6         </td></tr>\n",
       "\t<tr><td>2007-09-05</td><td>53        </td><td>48        </td><td>50        </td><td>90        </td><td>Rain      </td><td>7         </td></tr>\n",
       "\t<tr><td>2007-09-06</td><td>57        </td><td>42        </td><td>50        </td><td>69        </td><td>NA        </td><td>1         </td></tr>\n",
       "</tbody>\n",
       "</table>\n"
      ],
      "text/latex": [
       "\\begin{tabular}{r|lllllll}\n",
       " date & max\\_temp & min\\_temp & mean\\_temp & mean\\_rh & events & cloud\\_cover\\\\\n",
       "\\hline\n",
       "\t 2007-09-01 & 60         & 51         & 56         & 75         & NA         & 4         \\\\\n",
       "\t 2007-09-02 & 60         & 53         & 56         & 82         & Rain       & 4         \\\\\n",
       "\t 2007-09-03 & 57         & 51         & 54         & 78         & NA         & 6         \\\\\n",
       "\t 2007-09-04 & 64         & 50         & 57         & 80         & Rain       & 6         \\\\\n",
       "\t 2007-09-05 & 53         & 48         & 50         & 90         & Rain       & 7         \\\\\n",
       "\t 2007-09-06 & 57         & 42         & 50         & 69         & NA         & 1         \\\\\n",
       "\\end{tabular}\n"
      ],
      "text/markdown": [
       "\n",
       "| date | max_temp | min_temp | mean_temp | mean_rh | events | cloud_cover |\n",
       "|---|---|---|---|---|---|---|\n",
       "| 2007-09-01 | 60         | 51         | 56         | 75         | NA         | 4          |\n",
       "| 2007-09-02 | 60         | 53         | 56         | 82         | Rain       | 4          |\n",
       "| 2007-09-03 | 57         | 51         | 54         | 78         | NA         | 6          |\n",
       "| 2007-09-04 | 64         | 50         | 57         | 80         | Rain       | 6          |\n",
       "| 2007-09-05 | 53         | 48         | 50         | 90         | Rain       | 7          |\n",
       "| 2007-09-06 | 57         | 42         | 50         | 69         | NA         | 1          |\n",
       "\n"
      ],
      "text/plain": [
       "  date       max_temp min_temp mean_temp mean_rh events cloud_cover\n",
       "1 2007-09-01 60       51       56        75      NA     4          \n",
       "2 2007-09-02 60       53       56        82      Rain   4          \n",
       "3 2007-09-03 57       51       54        78      NA     6          \n",
       "4 2007-09-04 64       50       57        80      Rain   6          \n",
       "5 2007-09-05 53       48       50        90      Rain   7          \n",
       "6 2007-09-06 57       42       50        69      NA     1          "
      ]
     },
     "metadata": {},
     "output_type": "display_data"
    }
   ],
   "source": [
    "# Parse date \n",
    "akl_daily <- akl_daily_raw %>%\n",
    "  mutate(date = ymd(date))\n",
    "\n",
    "# Print akl_daily\n",
    "head(akl_daily)"
   ]
  },
  {
   "cell_type": "code",
   "execution_count": 39,
   "metadata": {},
   "outputs": [
    {
     "name": "stderr",
     "output_type": "stream",
     "text": [
      "Warning message:\n",
      "\"Removed 1 row(s) containing missing values (geom_path).\""
     ]
    },
    {
     "data": {
      "image/png": "[encoded data removed]",
      "text/plain": [
       "plot without title"
      ]
     },
     "metadata": {},
     "output_type": "display_data"
    }
   ],
   "source": [
    "# Plot to check work\n",
    "akl_daily %>%\n",
    "    ggplot(aes(x = date, y = max_temp)) +\n",
    "        geom_line() "
   ]
  },
  {
   "cell_type": "markdown",
   "metadata": {},
   "source": [
    "The temperatures are in farenheit. Yup, summer falls in Dec-Jan-Feb."
   ]
  },
  {
   "cell_type": "markdown",
   "metadata": {},
   "source": [
    "### Import hourly weather data\n",
    "\n",
    "The hourly data is a little different. The date information is spread over three columns `year`, `month` and `mday`, so we'll need to use `make_date()` to combine them."
   ]
  },
  {
   "cell_type": "code",
   "execution_count": 40,
   "metadata": {},
   "outputs": [
    {
     "name": "stderr",
     "output_type": "stream",
     "text": [
      "Parsed with column specification:\n",
      "cols(\n",
      "  year = col_double(),\n",
      "  month = col_double(),\n",
      "  mday = col_double(),\n",
      "  time = col_time(format = \"\"),\n",
      "  temperature = col_double(),\n",
      "  weather = col_character(),\n",
      "  conditions = col_character(),\n",
      "  events = col_character(),\n",
      "  humidity = col_double(),\n",
      "  date_utc = col_datetime(format = \"\")\n",
      ")\n"
     ]
    },
    {
     "data": {
      "text/html": [
       "<table>\n",
       "<thead><tr><th scope=col>year</th><th scope=col>month</th><th scope=col>mday</th><th scope=col>time</th><th scope=col>temperature</th><th scope=col>weather</th><th scope=col>conditions</th><th scope=col>events</th><th scope=col>humidity</th><th scope=col>date_utc</th></tr></thead>\n",
       "<tbody>\n",
       "\t<tr><td>2016               </td><td>1                  </td><td>1                  </td><td>00:00:00           </td><td>68                 </td><td>Clear              </td><td>Clear              </td><td>NA                 </td><td>68                 </td><td>2015-12-31 11:00:00</td></tr>\n",
       "\t<tr><td>2016               </td><td>1                  </td><td>1                  </td><td>00:30:00           </td><td>68                 </td><td>Clear              </td><td>Clear              </td><td>NA                 </td><td>68                 </td><td>2015-12-31 11:30:00</td></tr>\n",
       "\t<tr><td>2016               </td><td>1                  </td><td>1                  </td><td>01:00:00           </td><td>68                 </td><td>Clear              </td><td>Clear              </td><td>NA                 </td><td>73                 </td><td>2015-12-31 12:00:00</td></tr>\n",
       "\t<tr><td>2016               </td><td>1                  </td><td>1                  </td><td>01:30:00           </td><td>68                 </td><td>Clear              </td><td>Clear              </td><td>NA                 </td><td>68                 </td><td>2015-12-31 12:30:00</td></tr>\n",
       "\t<tr><td>2016               </td><td>1                  </td><td>1                  </td><td>02:00:00           </td><td>68                 </td><td>Clear              </td><td>Clear              </td><td>NA                 </td><td>68                 </td><td>2015-12-31 13:00:00</td></tr>\n",
       "\t<tr><td>2016               </td><td>1                  </td><td>1                  </td><td>02:30:00           </td><td>68                 </td><td>Clear              </td><td>Clear              </td><td>NA                 </td><td>68                 </td><td>2015-12-31 13:30:00</td></tr>\n",
       "</tbody>\n",
       "</table>\n"
      ],
      "text/latex": [
       "\\begin{tabular}{r|llllllllll}\n",
       " year & month & mday & time & temperature & weather & conditions & events & humidity & date\\_utc\\\\\n",
       "\\hline\n",
       "\t 2016                & 1                   & 1                   & 00:00:00            & 68                  & Clear               & Clear               & NA                  & 68                  & 2015-12-31 11:00:00\\\\\n",
       "\t 2016                & 1                   & 1                   & 00:30:00            & 68                  & Clear               & Clear               & NA                  & 68                  & 2015-12-31 11:30:00\\\\\n",
       "\t 2016                & 1                   & 1                   & 01:00:00            & 68                  & Clear               & Clear               & NA                  & 73                  & 2015-12-31 12:00:00\\\\\n",
       "\t 2016                & 1                   & 1                   & 01:30:00            & 68                  & Clear               & Clear               & NA                  & 68                  & 2015-12-31 12:30:00\\\\\n",
       "\t 2016                & 1                   & 1                   & 02:00:00            & 68                  & Clear               & Clear               & NA                  & 68                  & 2015-12-31 13:00:00\\\\\n",
       "\t 2016                & 1                   & 1                   & 02:30:00            & 68                  & Clear               & Clear               & NA                  & 68                  & 2015-12-31 13:30:00\\\\\n",
       "\\end{tabular}\n"
      ],
      "text/markdown": [
       "\n",
       "| year | month | mday | time | temperature | weather | conditions | events | humidity | date_utc |\n",
       "|---|---|---|---|---|---|---|---|---|---|\n",
       "| 2016                | 1                   | 1                   | 00:00:00            | 68                  | Clear               | Clear               | NA                  | 68                  | 2015-12-31 11:00:00 |\n",
       "| 2016                | 1                   | 1                   | 00:30:00            | 68                  | Clear               | Clear               | NA                  | 68                  | 2015-12-31 11:30:00 |\n",
       "| 2016                | 1                   | 1                   | 01:00:00            | 68                  | Clear               | Clear               | NA                  | 73                  | 2015-12-31 12:00:00 |\n",
       "| 2016                | 1                   | 1                   | 01:30:00            | 68                  | Clear               | Clear               | NA                  | 68                  | 2015-12-31 12:30:00 |\n",
       "| 2016                | 1                   | 1                   | 02:00:00            | 68                  | Clear               | Clear               | NA                  | 68                  | 2015-12-31 13:00:00 |\n",
       "| 2016                | 1                   | 1                   | 02:30:00            | 68                  | Clear               | Clear               | NA                  | 68                  | 2015-12-31 13:30:00 |\n",
       "\n"
      ],
      "text/plain": [
       "  year month mday time     temperature weather conditions events humidity\n",
       "1 2016 1     1    00:00:00 68          Clear   Clear      NA     68      \n",
       "2 2016 1     1    00:30:00 68          Clear   Clear      NA     68      \n",
       "3 2016 1     1    01:00:00 68          Clear   Clear      NA     73      \n",
       "4 2016 1     1    01:30:00 68          Clear   Clear      NA     68      \n",
       "5 2016 1     1    02:00:00 68          Clear   Clear      NA     68      \n",
       "6 2016 1     1    02:30:00 68          Clear   Clear      NA     68      \n",
       "  date_utc           \n",
       "1 2015-12-31 11:00:00\n",
       "2 2015-12-31 11:30:00\n",
       "3 2015-12-31 12:00:00\n",
       "4 2015-12-31 12:30:00\n",
       "5 2015-12-31 13:00:00\n",
       "6 2015-12-31 13:30:00"
      ]
     },
     "metadata": {},
     "output_type": "display_data"
    }
   ],
   "source": [
    "akl_hourly_raw <- read_csv(\"datasets/akl_weather_hourly_2016.csv\")\n",
    "head(akl_hourly_raw)"
   ]
  },
  {
   "cell_type": "markdown",
   "metadata": {},
   "source": [
    "Then the time information is in a separate column again, `time`. It's quite common to find `date` and `time` split across different variables. One way to construct the datetimes is to paste the date and time together and then parse them.\n"
   ]
  },
  {
   "cell_type": "code",
   "execution_count": 41,
   "metadata": {},
   "outputs": [
    {
     "data": {
      "text/html": [
       "<table>\n",
       "<thead><tr><th scope=col>date</th><th scope=col>time</th><th scope=col>datetime</th></tr></thead>\n",
       "<tbody>\n",
       "\t<tr><td>2016-01-01         </td><td>00:00:00           </td><td>2016-01-01 00:00:00</td></tr>\n",
       "\t<tr><td>2016-01-01         </td><td>00:30:00           </td><td>2016-01-01 00:30:00</td></tr>\n",
       "\t<tr><td>2016-01-01         </td><td>01:00:00           </td><td>2016-01-01 01:00:00</td></tr>\n",
       "\t<tr><td>2016-01-01         </td><td>01:30:00           </td><td>2016-01-01 01:30:00</td></tr>\n",
       "\t<tr><td>2016-01-01         </td><td>02:00:00           </td><td>2016-01-01 02:00:00</td></tr>\n",
       "\t<tr><td>2016-01-01         </td><td>02:30:00           </td><td>2016-01-01 02:30:00</td></tr>\n",
       "</tbody>\n",
       "</table>\n"
      ],
      "text/latex": [
       "\\begin{tabular}{r|lll}\n",
       " date & time & datetime\\\\\n",
       "\\hline\n",
       "\t 2016-01-01          & 00:00:00            & 2016-01-01 00:00:00\\\\\n",
       "\t 2016-01-01          & 00:30:00            & 2016-01-01 00:30:00\\\\\n",
       "\t 2016-01-01          & 01:00:00            & 2016-01-01 01:00:00\\\\\n",
       "\t 2016-01-01          & 01:30:00            & 2016-01-01 01:30:00\\\\\n",
       "\t 2016-01-01          & 02:00:00            & 2016-01-01 02:00:00\\\\\n",
       "\t 2016-01-01          & 02:30:00            & 2016-01-01 02:30:00\\\\\n",
       "\\end{tabular}\n"
      ],
      "text/markdown": [
       "\n",
       "| date | time | datetime |\n",
       "|---|---|---|\n",
       "| 2016-01-01          | 00:00:00            | 2016-01-01 00:00:00 |\n",
       "| 2016-01-01          | 00:30:00            | 2016-01-01 00:30:00 |\n",
       "| 2016-01-01          | 01:00:00            | 2016-01-01 01:00:00 |\n",
       "| 2016-01-01          | 01:30:00            | 2016-01-01 01:30:00 |\n",
       "| 2016-01-01          | 02:00:00            | 2016-01-01 02:00:00 |\n",
       "| 2016-01-01          | 02:30:00            | 2016-01-01 02:30:00 |\n",
       "\n"
      ],
      "text/plain": [
       "  date       time     datetime           \n",
       "1 2016-01-01 00:00:00 2016-01-01 00:00:00\n",
       "2 2016-01-01 00:30:00 2016-01-01 00:30:00\n",
       "3 2016-01-01 01:00:00 2016-01-01 01:00:00\n",
       "4 2016-01-01 01:30:00 2016-01-01 01:30:00\n",
       "5 2016-01-01 02:00:00 2016-01-01 02:00:00\n",
       "6 2016-01-01 02:30:00 2016-01-01 02:30:00"
      ]
     },
     "metadata": {},
     "output_type": "display_data"
    }
   ],
   "source": [
    "# Use make_date() to combine year, month and mday \n",
    "akl_hourly  <- akl_hourly_raw  %>% \n",
    "  mutate(date = make_date(year = year, month = month, day = mday))\n",
    "\n",
    "# Parse datetime_string \n",
    "akl_hourly <- akl_hourly  %>% \n",
    "  mutate(\n",
    "    datetime_string = paste(date, time, sep = \"T\"),\n",
    "    datetime = ymd_hms(datetime_string)\n",
    "  )\n",
    "\n",
    "# Print date, time and datetime columns of akl_hourly\n",
    "akl_hourly %>% \n",
    "    select(date, time, datetime) %>%\n",
    "        head()"
   ]
  },
  {
   "cell_type": "code",
   "execution_count": 42,
   "metadata": {},
   "outputs": [
    {
     "data": {
      "image/png": "[encoded data removed]",
      "text/plain": [
       "plot without title"
      ]
     },
     "metadata": {},
     "output_type": "display_data"
    }
   ],
   "source": [
    "# Plot to check work\n",
    "akl_hourly %>%\n",
    "    ggplot(aes(x = datetime, y = temperature)) +\n",
    "        geom_line()\n"
   ]
  },
  {
   "cell_type": "markdown",
   "metadata": {},
   "source": [
    "It's interesting how the day to day variation is about half the size of the yearly variation."
   ]
  },
  {
   "cell_type": "code",
   "execution_count": null,
   "metadata": {},
   "outputs": [],
   "source": []
  },
  {
   "cell_type": "code",
   "execution_count": null,
   "metadata": {},
   "outputs": [],
   "source": []
  },
  {
   "cell_type": "code",
   "execution_count": null,
   "metadata": {},
   "outputs": [],
   "source": []
  },
  {
   "cell_type": "code",
   "execution_count": null,
   "metadata": {},
   "outputs": [],
   "source": []
  },
  {
   "cell_type": "code",
   "execution_count": null,
   "metadata": {},
   "outputs": [],
   "source": []
  },
  {
   "cell_type": "code",
   "execution_count": null,
   "metadata": {},
   "outputs": [],
   "source": []
  },
  {
   "cell_type": "code",
   "execution_count": null,
   "metadata": {},
   "outputs": [],
   "source": []
  },
  {
   "cell_type": "code",
   "execution_count": null,
   "metadata": {},
   "outputs": [],
   "source": []
  },
  {
   "cell_type": "code",
   "execution_count": null,
   "metadata": {},
   "outputs": [],
   "source": []
  },
  {
   "cell_type": "code",
   "execution_count": null,
   "metadata": {},
   "outputs": [],
   "source": []
  },
  {
   "cell_type": "code",
   "execution_count": null,
   "metadata": {},
   "outputs": [],
   "source": []
  },
  {
   "cell_type": "code",
   "execution_count": null,
   "metadata": {},
   "outputs": [],
   "source": []
  },
  {
   "cell_type": "code",
   "execution_count": null,
   "metadata": {},
   "outputs": [],
   "source": []
  },
  {
   "cell_type": "code",
   "execution_count": null,
   "metadata": {},
   "outputs": [],
   "source": []
  },
  {
   "cell_type": "code",
   "execution_count": null,
   "metadata": {},
   "outputs": [],
   "source": []
  },
  {
   "cell_type": "code",
   "execution_count": null,
   "metadata": {},
   "outputs": [],
   "source": []
  },
  {
   "cell_type": "code",
   "execution_count": null,
   "metadata": {},
   "outputs": [],
   "source": []
  },
  {
   "cell_type": "code",
   "execution_count": null,
   "metadata": {},
   "outputs": [],
   "source": []
  },
  {
   "cell_type": "code",
   "execution_count": null,
   "metadata": {},
   "outputs": [],
   "source": []
  },
  {
   "cell_type": "code",
   "execution_count": null,
   "metadata": {},
   "outputs": [],
   "source": []
  },
  {
   "cell_type": "code",
   "execution_count": null,
   "metadata": {},
   "outputs": [],
   "source": []
  },
  {
   "cell_type": "code",
   "execution_count": null,
   "metadata": {},
   "outputs": [],
   "source": []
  },
  {
   "cell_type": "code",
   "execution_count": null,
   "metadata": {},
   "outputs": [],
   "source": []
  },
  {
   "cell_type": "markdown",
   "metadata": {},
   "source": [
    "{{'source: [https://xkcd.com/1179](https://xkcd.com/1179)' | fndetail 1}}"
   ]
  }
 ],
 "metadata": {
  "kernelspec": {
   "display_name": "R",
   "language": "R",
   "name": "ir"
  },
  "language_info": {
   "codemirror_mode": "r",
   "file_extension": ".r",
   "mimetype": "text/x-r-source",
   "name": "R",
   "pygments_lexer": "r",
   "version": "3.6.1"
  }
 },
 "nbformat": 4,
 "nbformat_minor": 4
}
