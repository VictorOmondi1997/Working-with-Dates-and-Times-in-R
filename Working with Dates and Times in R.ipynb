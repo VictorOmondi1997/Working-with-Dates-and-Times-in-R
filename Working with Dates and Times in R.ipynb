{
 "cells": [
  {
   "cell_type": "markdown",
   "metadata": {},
   "source": [
    "# Overview\n",
    "\n",
    "Dates and times are abundant in data and essential for answering questions that start with when, how long, or how often. However, they can be tricky, as they come in a variety of formats and can behave in unintuitive ways. This article teaches you the essentials of parsing, manipulating, and computing with dates and times in R. By the end, we'll have mastered the lubridate package, a member of the tidyverse, specifically designed to handle dates and times. we'll also have applied the new skills to explore how often R versions are released, when the weather is good in Auckland (the birthplace of R), and how long monarchs ruled in Britain."
   ]
  },
  {
   "cell_type": "markdown",
   "metadata": {},
   "source": [
    "# Libraries"
   ]
  },
  {
   "cell_type": "code",
   "execution_count": 63,
   "metadata": {},
   "outputs": [
    {
     "name": "stderr",
     "output_type": "stream",
     "text": [
      "Warning message:\n",
      "\"package 'ggridges' was built under R version 3.6.3\""
     ]
    }
   ],
   "source": [
    "library(readr)\n",
    "library(anytime)\n",
    "library(ggplot2)\n",
    "library(dplyr)\n",
    "library(lubridate)\n",
    "library(ggridges)"
   ]
  },
  {
   "cell_type": "markdown",
   "metadata": {},
   "source": [
    "# Dates and Times in R\n",
    "\n",
    "R doesn't know something is a date or time unless you tell it. We'll explore some of the ways R stores dates and times by exploring how often R versions are released, and how quickly people download them."
   ]
  },
  {
   "cell_type": "markdown",
   "metadata": {},
   "source": [
    "## Introduction to dates\n",
    "\n",
    "\n",
    "> ### Dates\n",
    "- Different conventions in different places\n",
    "- 27th Feb 2013\n",
    "  - **NZ**: 27/2/2013\n",
    "  - **USA**: 2/27/2013\n",
    "\n",
    "> ### The global standard numeric date format\n",
    "![image.png](datasets/iso_announcement.png){% fn 1%}\n",
    "\n",
    "> ### ISO 8601 YYYY-MM-DD\n",
    "- Values ordered from the largest to smallest unit of time\n",
    "- Each has a xed number of digits, must be padded with leadingzeros\n",
    "- Either, no separators for computers, or - in dates\n",
    "  - 1st of January 2011 -> 2011-01-01\n",
    "\n",
    "> Dates in R\n",
    "- Packages that importd ates:`readr`,`anytime`\n"
   ]
  },
  {
   "cell_type": "code",
   "execution_count": 2,
   "metadata": {},
   "outputs": [
    {
     "data": {
      "text/html": [
       "1974"
      ],
      "text/latex": [
       "1974"
      ],
      "text/markdown": [
       "1974"
      ],
      "text/plain": [
       "[1] 1974"
      ]
     },
     "metadata": {},
     "output_type": "display_data"
    }
   ],
   "source": [
    "2003-02-27"
   ]
  },
  {
   "cell_type": "code",
   "execution_count": 3,
   "metadata": {},
   "outputs": [
    {
     "data": {
      "text/html": [
       "<time datetime=\"2003-02-27\">2003-02-27</time>"
      ],
      "text/latex": [
       "2003-02-27"
      ],
      "text/markdown": [
       "2003-02-27"
      ],
      "text/plain": [
       "[1] \"2003-02-27\""
      ]
     },
     "metadata": {},
     "output_type": "display_data"
    }
   ],
   "source": [
    "as.Date(\"2003-02-27\")"
   ]
  },
  {
   "cell_type": "code",
   "execution_count": 4,
   "metadata": {},
   "outputs": [
    {
     "data": {
      "text/html": [
       "'2003-02-27'"
      ],
      "text/latex": [
       "'2003-02-27'"
      ],
      "text/markdown": [
       "'2003-02-27'"
      ],
      "text/plain": [
       "[1] \"2003-02-27\""
      ]
     },
     "metadata": {},
     "output_type": "display_data"
    }
   ],
   "source": [
    "\"2003-02-27\""
   ]
  },
  {
   "cell_type": "code",
   "execution_count": 5,
   "metadata": {},
   "outputs": [
    {
     "name": "stdout",
     "output_type": "stream",
     "text": [
      " chr \"2003-02-27\"\n"
     ]
    }
   ],
   "source": [
    "str(\"2003-02-27\")"
   ]
  },
  {
   "cell_type": "code",
   "execution_count": 6,
   "metadata": {},
   "outputs": [
    {
     "name": "stdout",
     "output_type": "stream",
     "text": [
      " Date[1:1], format: \"2003-02-27\"\n"
     ]
    }
   ],
   "source": [
    "str(as.Date(\"2003-02-27\"))"
   ]
  },
  {
   "cell_type": "markdown",
   "metadata": {},
   "source": [
    "### Specifying dates\n",
    "\n",
    "R doesn't know something is a date unless you tell it. If you have a character string that represents a date in the ISO 8601 standard you can turn it into a [Date](https://www.rdocumentation.org/packages/base/versions/3.4.1/topics/Dates) using the [`as.Date()`](https://www.rdocumentation.org/packages/base/topics/as.Date) function. Just pass the character string (or a vector of character strings) as the first argument.\n",
    "\n",
    "We'll convert a character string representation of a date to a `Date` object."
   ]
  },
  {
   "cell_type": "code",
   "execution_count": 7,
   "metadata": {},
   "outputs": [
    {
     "name": "stdout",
     "output_type": "stream",
     "text": [
      " chr \"2013-04-03\"\n",
      " Date[1:1], format: \"2013-04-03\"\n"
     ]
    },
    {
     "data": {
      "text/html": [
       "<time datetime=\"2014-04-10\">2014-04-10</time>"
      ],
      "text/latex": [
       "2014-04-10"
      ],
      "text/markdown": [
       "2014-04-10"
      ],
      "text/plain": [
       "[1] \"2014-04-10\""
      ]
     },
     "metadata": {},
     "output_type": "display_data"
    }
   ],
   "source": [
    "# The date R 3.0.0 was released\n",
    "x <- \"2013-04-03\"\n",
    "\n",
    "# Examine structure of x\n",
    "str(x)\n",
    "\n",
    "# Use as.Date() to interpret x as a date\n",
    "x_date <- as.Date(x)\n",
    "\n",
    "# Examine structure of x_date\n",
    "str(x_date)\n",
    "\n",
    "# Store April 10 2014 as a Date\n",
    "april_10_2014 <- as.Date(\"2014-04-10\")\n",
    "april_10_2014"
   ]
  },
  {
   "cell_type": "markdown",
   "metadata": {},
   "source": [
    "### Automatic import\n",
    "\n",
    "Sometimes we'll need to input a couple of dates by hand using as.Date() but it's much more common to have a column of dates in a data file.\n",
    "\n",
    "Some functions that read in data will automatically recognize and parse dates in a variety of formats. In particular the import functions, like [`read_csv()`](https://www.rdocumentation.org/packages/readr/topics/read_csv), in the `readr` package will recognize dates in a few common formats.\n",
    "\n",
    "There is also the [`anytime()`](https://www.rdocumentation.org/packages/anytime/topics/anytime) function in the `anytime` package whose sole goal is to automatically parse strings as dates regardless of the format."
   ]
  },
  {
   "cell_type": "code",
   "execution_count": 8,
   "metadata": {},
   "outputs": [
    {
     "name": "stderr",
     "output_type": "stream",
     "text": [
      "Parsed with column specification:\n",
      "cols(\n",
      "  major = col_double(),\n",
      "  minor = col_double(),\n",
      "  patch = col_double(),\n",
      "  date = col_date(format = \"\"),\n",
      "  datetime = col_datetime(format = \"\"),\n",
      "  time = col_time(format = \"\"),\n",
      "  type = col_character()\n",
      ")\n"
     ]
    },
    {
     "name": "stdout",
     "output_type": "stream",
     "text": [
      " Date[1:105], format: \"1997-12-04\" \"1997-12-21\" \"1998-01-10\" \"1998-03-14\" \"1998-05-02\" ...\n"
     ]
    },
    {
     "data": {
      "text/plain": [
       "[1] \"2009-09-10 EAT\" \"2009-09-10 EAT\" \"2009-09-10 EAT\" \"2009-09-10 EAT\""
      ]
     },
     "metadata": {},
     "output_type": "display_data"
    }
   ],
   "source": [
    "# Use read_csv() to import rversions.csv\n",
    "releases <- read_csv('datasets/rversions.csv')\n",
    "\n",
    "# Examine the structure of the date column\n",
    "str(releases$date)\n",
    "\n",
    "# Various ways of writing Sep 10 2009\n",
    "sep_10_2009 <- c(\"September 10 2009\", \"2009-09-10\", \"10 Sep 2009\", \"09-10-2009\")\n",
    "\n",
    "# Use anytime() to parse sep_10_2009\n",
    "anytime(sep_10_2009)"
   ]
  },
  {
   "cell_type": "markdown",
   "metadata": {},
   "source": [
    "## Why use dates?\n",
    "\n",
    "> ### Dates act like numbers\n",
    "- Date objects are stored as days since 1970-01-01"
   ]
  },
  {
   "cell_type": "code",
   "execution_count": 9,
   "metadata": {},
   "outputs": [
    {
     "data": {
      "text/html": [
       "TRUE"
      ],
      "text/latex": [
       "TRUE"
      ],
      "text/markdown": [
       "TRUE"
      ],
      "text/plain": [
       "[1] TRUE"
      ]
     },
     "metadata": {},
     "output_type": "display_data"
    }
   ],
   "source": [
    "as.Date(\"2020-07-13\") > as.Date(\"2020-01-01\")"
   ]
  },
  {
   "cell_type": "code",
   "execution_count": 10,
   "metadata": {},
   "outputs": [
    {
     "data": {
      "text/html": [
       "<time datetime=\"2020-07-13\">2020-07-13</time>"
      ],
      "text/latex": [
       "2020-07-13"
      ],
      "text/markdown": [
       "2020-07-13"
      ],
      "text/plain": [
       "[1] \"2020-07-13\""
      ]
     },
     "metadata": {},
     "output_type": "display_data"
    }
   ],
   "source": [
    "as.Date(\"2020-07-10\") + 3"
   ]
  },
  {
   "cell_type": "code",
   "execution_count": 11,
   "metadata": {},
   "outputs": [
    {
     "data": {
      "text/plain": [
       "Time difference of 366 days"
      ]
     },
     "metadata": {},
     "output_type": "display_data"
    }
   ],
   "source": [
    "as.Date(\"2020-07-13\") - as.Date(\"2019-07-13\")"
   ]
  },
  {
   "cell_type": "markdown",
   "metadata": {},
   "source": [
    "> ### Plotting with dates"
   ]
  },
  {
   "cell_type": "code",
   "execution_count": 12,
   "metadata": {},
   "outputs": [
    {
     "data": {
      "image/png": "[encoded data removed]",
      "text/plain": [
       "plot without title"
      ]
     },
     "metadata": {},
     "output_type": "display_data"
    }
   ],
   "source": [
    "first_days = c(as.Date(\"2020-01-01\"), as.Date(\"2020-02-01\"), \n",
    "               as.Date(\"2020-03-01\"), as.Date(\"2020-04-01\"), \n",
    "               as.Date(\"2020-05-01\"), as.Date(\"2020-06-01\"), \n",
    "               as.Date(\"2020-07-01\"), as.Date(\"2020-08-01\"))\n",
    "plot(first_days, 1:8)"
   ]
  },
  {
   "cell_type": "code",
   "execution_count": 13,
   "metadata": {},
   "outputs": [
    {
     "data": {
      "image/png": "[encoded data removed]",
      "text/plain": [
       "plot without title"
      ]
     },
     "metadata": {},
     "output_type": "display_data"
    }
   ],
   "source": [
    "ggplot() + geom_point(aes(x=first_days, y=1:8))"
   ]
  },
  {
   "cell_type": "markdown",
   "metadata": {},
   "source": [
    "> ### R releases"
   ]
  },
  {
   "cell_type": "code",
   "execution_count": 14,
   "metadata": {},
   "outputs": [
    {
     "data": {
      "text/html": [
       "<table>\n",
       "<thead><tr><th scope=col>major</th><th scope=col>minor</th><th scope=col>patch</th><th scope=col>date</th><th scope=col>datetime</th><th scope=col>time</th><th scope=col>type</th></tr></thead>\n",
       "<tbody>\n",
       "\t<tr><td>0                  </td><td>60                 </td><td>NA                 </td><td>1997-12-04         </td><td>1997-12-04 08:47:58</td><td>08:47:58           </td><td>patch              </td></tr>\n",
       "\t<tr><td>0                  </td><td>61                 </td><td>NA                 </td><td>1997-12-21         </td><td>1997-12-21 13:09:22</td><td>13:09:22           </td><td>minor              </td></tr>\n",
       "\t<tr><td>0                  </td><td>61                 </td><td> 1                 </td><td>1998-01-10         </td><td>1998-01-10 00:31:55</td><td>00:31:55           </td><td>patch              </td></tr>\n",
       "\t<tr><td>0                  </td><td>61                 </td><td> 2                 </td><td>1998-03-14         </td><td>1998-03-14 19:25:55</td><td>19:25:55           </td><td>patch              </td></tr>\n",
       "\t<tr><td>0                  </td><td>61                 </td><td> 3                 </td><td>1998-05-02         </td><td>1998-05-02 07:58:17</td><td>07:58:17           </td><td>patch              </td></tr>\n",
       "\t<tr><td>0                  </td><td>62                 </td><td>NA                 </td><td>1998-06-14         </td><td>1998-06-14 12:56:20</td><td>12:56:20           </td><td>minor              </td></tr>\n",
       "</tbody>\n",
       "</table>\n"
      ],
      "text/latex": [
       "\\begin{tabular}{r|lllllll}\n",
       " major & minor & patch & date & datetime & time & type\\\\\n",
       "\\hline\n",
       "\t 0                   & 60                  & NA                  & 1997-12-04          & 1997-12-04 08:47:58 & 08:47:58            & patch              \\\\\n",
       "\t 0                   & 61                  & NA                  & 1997-12-21          & 1997-12-21 13:09:22 & 13:09:22            & minor              \\\\\n",
       "\t 0                   & 61                  &  1                  & 1998-01-10          & 1998-01-10 00:31:55 & 00:31:55            & patch              \\\\\n",
       "\t 0                   & 61                  &  2                  & 1998-03-14          & 1998-03-14 19:25:55 & 19:25:55            & patch              \\\\\n",
       "\t 0                   & 61                  &  3                  & 1998-05-02          & 1998-05-02 07:58:17 & 07:58:17            & patch              \\\\\n",
       "\t 0                   & 62                  & NA                  & 1998-06-14          & 1998-06-14 12:56:20 & 12:56:20            & minor              \\\\\n",
       "\\end{tabular}\n"
      ],
      "text/markdown": [
       "\n",
       "| major | minor | patch | date | datetime | time | type |\n",
       "|---|---|---|---|---|---|---|\n",
       "| 0                   | 60                  | NA                  | 1997-12-04          | 1997-12-04 08:47:58 | 08:47:58            | patch               |\n",
       "| 0                   | 61                  | NA                  | 1997-12-21          | 1997-12-21 13:09:22 | 13:09:22            | minor               |\n",
       "| 0                   | 61                  |  1                  | 1998-01-10          | 1998-01-10 00:31:55 | 00:31:55            | patch               |\n",
       "| 0                   | 61                  |  2                  | 1998-03-14          | 1998-03-14 19:25:55 | 19:25:55            | patch               |\n",
       "| 0                   | 61                  |  3                  | 1998-05-02          | 1998-05-02 07:58:17 | 07:58:17            | patch               |\n",
       "| 0                   | 62                  | NA                  | 1998-06-14          | 1998-06-14 12:56:20 | 12:56:20            | minor               |\n",
       "\n"
      ],
      "text/plain": [
       "  major minor patch date       datetime            time     type \n",
       "1 0     60    NA    1997-12-04 1997-12-04 08:47:58 08:47:58 patch\n",
       "2 0     61    NA    1997-12-21 1997-12-21 13:09:22 13:09:22 minor\n",
       "3 0     61     1    1998-01-10 1998-01-10 00:31:55 00:31:55 patch\n",
       "4 0     61     2    1998-03-14 1998-03-14 19:25:55 19:25:55 patch\n",
       "5 0     61     3    1998-05-02 1998-05-02 07:58:17 07:58:17 patch\n",
       "6 0     62    NA    1998-06-14 1998-06-14 12:56:20 12:56:20 minor"
      ]
     },
     "metadata": {},
     "output_type": "display_data"
    }
   ],
   "source": [
    "head(releases)"
   ]
  },
  {
   "cell_type": "markdown",
   "metadata": {},
   "source": [
    "### Plotting\n",
    "\n",
    "If you plot a `Date` on the axis of a plot, you expect the dates to be in calendar order, and that's exactly what happens with [`plot()`](https://www.rdocumentation.org/packages/graphics/topics/plot) or [`ggplot()`](https://www.rdocumentation.org/packages/ggplot2/topics/ggplot).\n",
    "\n",
    "We'll make some plots with the R version `releases` data using ggplot2. There are two big differences when a `Date` is on an axis:\n",
    "\n",
    "1. If you specify limits they must be Date objects.\n",
    "2. To control the behavior of the scale we'll use the `scale_x_date()` function."
   ]
  },
  {
   "cell_type": "code",
   "execution_count": 15,
   "metadata": {},
   "outputs": [
    {
     "name": "stderr",
     "output_type": "stream",
     "text": [
      "Warning message:\n",
      "\"Removed 87 row(s) containing missing values (geom_path).\""
     ]
    },
    {
     "data": {
      "image/png": "[encoded data removed]",
      "text/plain": [
       "plot without title"
      ]
     },
     "metadata": {},
     "output_type": "display_data"
    },
    {
     "data": {
      "image/png": "[encoded data removed]",
      "text/plain": [
       "plot without title"
      ]
     },
     "metadata": {},
     "output_type": "display_data"
    },
    {
     "data": {
      "image/png": "[encoded data removed]",
      "text/plain": [
       "plot without title"
      ]
     },
     "metadata": {},
     "output_type": "display_data"
    }
   ],
   "source": [
    "# Set the x axis to the date column\n",
    "ggplot(releases, aes(x = date, y = type)) +\n",
    "  geom_line(aes(group = 1, color = factor(major)))\n",
    "\n",
    "# Limit the axis to between 2010-01-01 and 2014-01-01\n",
    "ggplot(releases, aes(x = date, y = type)) +\n",
    "  geom_line(aes(group = 1, color = factor(major))) +\n",
    "  xlim(as.Date(\"2010-01-01\"), as.Date(\"2014-01-01\"))\n",
    "\n",
    "# Specify breaks every ten years and labels with \"%Y\"\n",
    "ggplot(releases, aes(x = date, y = type)) +\n",
    "  geom_line(aes(group = 1, color = factor(major))) +\n",
    "  scale_x_date(date_breaks = \"10 years\", date_labels = \"%Y\")"
   ]
  },
  {
   "cell_type": "markdown",
   "metadata": {},
   "source": [
    "### Arithmetic and logical operators\n",
    "\n",
    "Since `Date` objects are internally represented as the number of days since 1970-01-01 we can do basic math and comparisons with dates. We can compare dates with the usual [logical operators](https://www.rdocumentation.org/packages/base/topics/Comparison) (`<`, `==`, `>` etc.), find extremes with [`min()`](https://www.rdocumentation.org/packages/base/topics/min) and [`max()`](https://www.rdocumentation.org/packages/base/topics/max), and even subtract two dates to find out the time between them."
   ]
  },
  {
   "cell_type": "code",
   "execution_count": 16,
   "metadata": {},
   "outputs": [
    {
     "data": {
      "text/html": [
       "<table>\n",
       "<thead><tr><th scope=col>major</th><th scope=col>minor</th><th scope=col>patch</th><th scope=col>date</th><th scope=col>datetime</th><th scope=col>time</th><th scope=col>type</th></tr></thead>\n",
       "<tbody>\n",
       "\t<tr><td>3                  </td><td>4                  </td><td>1                  </td><td>2017-06-30         </td><td>2017-06-30 07:04:11</td><td>07:04:11           </td><td>patch              </td></tr>\n",
       "</tbody>\n",
       "</table>\n"
      ],
      "text/latex": [
       "\\begin{tabular}{r|lllllll}\n",
       " major & minor & patch & date & datetime & time & type\\\\\n",
       "\\hline\n",
       "\t 3                   & 4                   & 1                   & 2017-06-30          & 2017-06-30 07:04:11 & 07:04:11            & patch              \\\\\n",
       "\\end{tabular}\n"
      ],
      "text/markdown": [
       "\n",
       "| major | minor | patch | date | datetime | time | type |\n",
       "|---|---|---|---|---|---|---|\n",
       "| 3                   | 4                   | 1                   | 2017-06-30          | 2017-06-30 07:04:11 | 07:04:11            | patch               |\n",
       "\n"
      ],
      "text/plain": [
       "  major minor patch date       datetime            time     type \n",
       "1 3     4     1     2017-06-30 2017-06-30 07:04:11 07:04:11 patch"
      ]
     },
     "metadata": {},
     "output_type": "display_data"
    },
    {
     "data": {
      "text/plain": [
       "Time difference of 1109 days"
      ]
     },
     "metadata": {},
     "output_type": "display_data"
    }
   ],
   "source": [
    "# Find the largest date\n",
    "last_release_date <- max(releases$date)\n",
    "\n",
    "# Filter row for last release\n",
    "last_release <- filter(releases, date==last_release_date)\n",
    "\n",
    "# Print last_release\n",
    "last_release\n",
    "\n",
    "# How long since last release?\n",
    "Sys.Date() - last_release_date"
   ]
  },
  {
   "cell_type": "markdown",
   "metadata": {},
   "source": [
    " <a href=\"https://www.rdocumentation.org/packages/base/topics/Sys.date()\">`Sys.date()`</a>- in the code, it simply returns today's date."
   ]
  },
  {
   "cell_type": "markdown",
   "metadata": {},
   "source": [
    "## What about times?\n",
    "\n",
    "> ### ISO 8601\n",
    "- HH:MM:SS\n",
    "  - Largest unit to smallest\n",
    "  - Fixed digits\n",
    "    - Hours: 00 -- 24\n",
    "    - Minutes: 00 -- 59\n",
    "    - Seconds: 00 -- 60 (60 only for leap seconds)\n",
    "  - No separator or :\n",
    "\n",
    "\n",
    "> ### Datetimes in R\n",
    "- Two objects types:\n",
    "  - `POSIXlt` - list with named components\n",
    "  - `POSIXct` - seconds since 1970-01-01 00:00:00\n",
    "- `POSIXct` will go in a data frame\n",
    "- `as.POSIXct()` turns a string into a `POSIXct` object"
   ]
  },
  {
   "cell_type": "code",
   "execution_count": 17,
   "metadata": {},
   "outputs": [
    {
     "name": "stdout",
     "output_type": "stream",
     "text": [
      " POSIXct[1:1], format: \"1997-06-15 00:01:00\"\n"
     ]
    }
   ],
   "source": [
    "str(as.POSIXct(\"1997-06-15 00:01:00\"))"
   ]
  },
  {
   "cell_type": "markdown",
   "metadata": {},
   "source": [
    "> ### Timezones\n",
    "- `\"2013-02-27T18:00:00\"`-6pm localtime\n",
    "- `\"2013-02-27T18:00:00Z\"`-6pm UTC\n",
    "- `\"2013-02-27T18:00:00-08:00\"`-6pmin Oregon"
   ]
  },
  {
   "cell_type": "code",
   "execution_count": 18,
   "metadata": {},
   "outputs": [
    {
     "data": {
      "text/plain": [
       "[1] \"1997-06-15 EAT\""
      ]
     },
     "metadata": {},
     "output_type": "display_data"
    }
   ],
   "source": [
    "as.POSIXct(\"1997-06-15T18:00:59Z\")"
   ]
  },
  {
   "cell_type": "code",
   "execution_count": 19,
   "metadata": {},
   "outputs": [
    {
     "data": {
      "text/plain": [
       "[1] \"1997-06-15 UTC\""
      ]
     },
     "metadata": {},
     "output_type": "display_data"
    }
   ],
   "source": [
    "as.POSIXct(\"1997-06-15T18:00:59Z\", tz=\"UTC\")"
   ]
  },
  {
   "cell_type": "markdown",
   "metadata": {},
   "source": [
    "> ### Datetimes behave nicely too\n",
    "- Once a `POSIXct` object,datetimes can be:\n",
    "  - Compared\n",
    "  - Subtracted\n",
    "  - Plotted\n"
   ]
  },
  {
   "cell_type": "markdown",
   "metadata": {},
   "source": [
    "### Getting datetimes into R\n",
    "\n",
    "\n",
    "Just like dates without times, if you want R to recognize a string as a datetime you need to convert it, although now you use <a href=\"https://www.rdocumentation.org/packages/base/topics/as.POSIXct()\">`as.POSIXct()`</a>. `as.POSIXct()` expects strings to be in the format YYYY-MM-DD HH:MM:SS.\n",
    "\n",
    "The only tricky thing is that times will be interpreted in local time based on your machine's set up. You can check your timezone with [`Sys.timezone()`](https://www.rdocumentation.org/packages/base/topics/Sys.timezone). If you want the time to be interpreted in a different timezone, you just set the `tz` argument of `as.POSIXct()`."
   ]
  },
  {
   "cell_type": "code",
   "execution_count": 20,
   "metadata": {},
   "outputs": [
    {
     "data": {
      "text/html": [
       "'Africa/Nairobi'"
      ],
      "text/latex": [
       "'Africa/Nairobi'"
      ],
      "text/markdown": [
       "'Africa/Nairobi'"
      ],
      "text/plain": [
       "[1] \"Africa/Nairobi\""
      ]
     },
     "metadata": {},
     "output_type": "display_data"
    }
   ],
   "source": [
    "Sys.timezone()"
   ]
  },
  {
   "cell_type": "code",
   "execution_count": 21,
   "metadata": {},
   "outputs": [
    {
     "data": {
      "text/plain": [
       "[1] \"2010-10-01 12:12:00 EAT\""
      ]
     },
     "metadata": {},
     "output_type": "display_data"
    },
    {
     "data": {
      "text/plain": [
       "[1] \"2010-10-01 12:12:00 PDT\""
      ]
     },
     "metadata": {},
     "output_type": "display_data"
    },
    {
     "name": "stdout",
     "output_type": "stream",
     "text": [
      " POSIXct[1:105], format: \"1997-12-04 08:47:58\" \"1997-12-21 13:09:22\" \"1998-01-10 00:31:55\" ...\n"
     ]
    }
   ],
   "source": [
    "# Use as.POSIXct to enter the datetime \n",
    "as.POSIXct(\"2010-10-01 12:12:00\")\n",
    "\n",
    "# Use as.POSIXct again but set the timezone to `\"America/Los_Angeles\"`\n",
    "as.POSIXct(\"2010-10-01 12:12:00\", tz = \"America/Los_Angeles\")\n",
    "\n",
    "# Examine structure of datetime column\n",
    "str(releases$datetime)"
   ]
  },
  {
   "cell_type": "markdown",
   "metadata": {},
   "source": [
    "### Datetimes behave nicely too\n",
    "\n",
    "Just like `Date` objects, you can plot and do math with `POSIXct` objects. We'll see how quickly people download new versions of R, by examining the download logs from the RStudio CRAN mirror. R 3.2.0 was released at \"2015-04-16 07:13:33\" so `cran-logs_2015-04-17.csv` contains a random sample of downloads on the 16th, 17th and 18th."
   ]
  },
  {
   "cell_type": "code",
   "execution_count": 22,
   "metadata": {},
   "outputs": [
    {
     "name": "stderr",
     "output_type": "stream",
     "text": [
      "Parsed with column specification:\n",
      "cols(\n",
      "  datetime = col_datetime(format = \"\"),\n",
      "  r_version = col_character(),\n",
      "  country = col_character()\n",
      ")\n"
     ]
    },
    {
     "data": {
      "text/html": [
       "<table>\n",
       "<thead><tr><th scope=col>datetime</th><th scope=col>r_version</th><th scope=col>country</th></tr></thead>\n",
       "<tbody>\n",
       "\t<tr><td>2015-04-16 22:40:19</td><td>3.1.3              </td><td>CO                 </td></tr>\n",
       "\t<tr><td>2015-04-16 09:11:04</td><td>3.1.3              </td><td>GB                 </td></tr>\n",
       "\t<tr><td>2015-04-16 17:12:37</td><td>3.1.3              </td><td>DE                 </td></tr>\n",
       "\t<tr><td>2015-04-18 12:34:43</td><td>3.2.0              </td><td>GB                 </td></tr>\n",
       "\t<tr><td>2015-04-16 04:49:18</td><td>3.1.3              </td><td>PE                 </td></tr>\n",
       "\t<tr><td>2015-04-16 06:40:44</td><td>3.1.3              </td><td>TW                 </td></tr>\n",
       "</tbody>\n",
       "</table>\n"
      ],
      "text/latex": [
       "\\begin{tabular}{r|lll}\n",
       " datetime & r\\_version & country\\\\\n",
       "\\hline\n",
       "\t 2015-04-16 22:40:19 & 3.1.3               & CO                 \\\\\n",
       "\t 2015-04-16 09:11:04 & 3.1.3               & GB                 \\\\\n",
       "\t 2015-04-16 17:12:37 & 3.1.3               & DE                 \\\\\n",
       "\t 2015-04-18 12:34:43 & 3.2.0               & GB                 \\\\\n",
       "\t 2015-04-16 04:49:18 & 3.1.3               & PE                 \\\\\n",
       "\t 2015-04-16 06:40:44 & 3.1.3               & TW                 \\\\\n",
       "\\end{tabular}\n"
      ],
      "text/markdown": [
       "\n",
       "| datetime | r_version | country |\n",
       "|---|---|---|\n",
       "| 2015-04-16 22:40:19 | 3.1.3               | CO                  |\n",
       "| 2015-04-16 09:11:04 | 3.1.3               | GB                  |\n",
       "| 2015-04-16 17:12:37 | 3.1.3               | DE                  |\n",
       "| 2015-04-18 12:34:43 | 3.2.0               | GB                  |\n",
       "| 2015-04-16 04:49:18 | 3.1.3               | PE                  |\n",
       "| 2015-04-16 06:40:44 | 3.1.3               | TW                  |\n",
       "\n"
      ],
      "text/plain": [
       "  datetime            r_version country\n",
       "1 2015-04-16 22:40:19 3.1.3     CO     \n",
       "2 2015-04-16 09:11:04 3.1.3     GB     \n",
       "3 2015-04-16 17:12:37 3.1.3     DE     \n",
       "4 2015-04-18 12:34:43 3.2.0     GB     \n",
       "5 2015-04-16 04:49:18 3.1.3     PE     \n",
       "6 2015-04-16 06:40:44 3.1.3     TW     "
      ]
     },
     "metadata": {},
     "output_type": "display_data"
    }
   ],
   "source": [
    "# Import \"cran-logs_2015-04-17.csv\" with read_csv()\n",
    "logs <- read_csv(\"datasets/cran-logs_2015-04-17.csv\")\n",
    "\n",
    "# Print logs\n",
    "head(logs)"
   ]
  },
  {
   "cell_type": "code",
   "execution_count": 23,
   "metadata": {},
   "outputs": [
    {
     "data": {
      "text/html": [
       "<table>\n",
       "<thead><tr><th scope=col>datetime</th><th scope=col>r_version</th><th scope=col>country</th></tr></thead>\n",
       "<tbody>\n",
       "</tbody>\n",
       "</table>\n"
      ],
      "text/latex": [
       "\\begin{tabular}{r|lll}\n",
       " datetime & r\\_version & country\\\\\n",
       "\\hline\n",
       "\\end{tabular}\n"
      ],
      "text/markdown": [
       "\n",
       "| datetime | r_version | country |\n",
       "|---|---|---|\n",
       "\n"
      ],
      "text/plain": [
       "     datetime r_version country"
      ]
     },
     "metadata": {},
     "output_type": "display_data"
    },
    {
     "name": "stderr",
     "output_type": "stream",
     "text": [
      "`stat_bin()` using `bins = 30`. Pick better value with `binwidth`.\n"
     ]
    },
    {
     "data": {
      "image/png": "[encoded data removed]",
      "text/plain": [
       "plot without title"
      ]
     },
     "metadata": {},
     "output_type": "display_data"
    }
   ],
   "source": [
    "# Store the release time as a POSIXct object\n",
    "release_time <- as.POSIXct(\"2015-04-16 07:13:33\", tz = \"UTC\")\n",
    "\n",
    "# When is the first download of 3.2.0?\n",
    "logs %>% \n",
    "  filter(datetime==release_time,\n",
    "    r_version == \"3.2.0\")\n",
    "\n",
    "# Examine histograms of downloads by version\n",
    "ggplot(logs, aes(x = datetime)) +\n",
    "  geom_histogram() +\n",
    "  geom_vline(aes(xintercept = as.numeric(release_time)))+\n",
    "  facet_wrap(~ r_version, ncol = 1)"
   ]
  },
  {
   "cell_type": "markdown",
   "metadata": {},
   "source": [
    "it takes about two days for downloads of the new version (3.2.0) to overtake downloads of the old version (3.1.3)"
   ]
  },
  {
   "cell_type": "markdown",
   "metadata": {},
   "source": [
    "## Why lubridate?\n",
    "\n",
    "\n",
    "> ### lubridate\n",
    "- Make working with dates and times in R easy!\n",
    "- `tidyverse` package\n",
    "  - Plays nicely with builtin datetime objects\n",
    "  - Designed for humans not computers\n",
    "- Plays nicely with other `tidyverse` packages\n",
    "- Consistent behaviour regardless of underlying object\n",
    "\n",
    "\n",
    "> ### Parsing a wide range of formats"
   ]
  },
  {
   "cell_type": "code",
   "execution_count": 24,
   "metadata": {},
   "outputs": [
    {
     "data": {
      "text/html": [
       "<time datetime=\"1997-06-15\">1997-06-15</time>"
      ],
      "text/latex": [
       "1997-06-15"
      ],
      "text/markdown": [
       "1997-06-15"
      ],
      "text/plain": [
       "[1] \"1997-06-15\""
      ]
     },
     "metadata": {},
     "output_type": "display_data"
    }
   ],
   "source": [
    "ymd(\"1997-06-15\")"
   ]
  },
  {
   "cell_type": "code",
   "execution_count": 25,
   "metadata": {},
   "outputs": [
    {
     "data": {
      "text/html": [
       "<time datetime=\"1997-06-15\">1997-06-15</time>"
      ],
      "text/latex": [
       "1997-06-15"
      ],
      "text/markdown": [
       "1997-06-15"
      ],
      "text/plain": [
       "[1] \"1997-06-15\""
      ]
     },
     "metadata": {},
     "output_type": "display_data"
    }
   ],
   "source": [
    "dmy(\"15/06/97\")"
   ]
  },
  {
   "cell_type": "code",
   "execution_count": 26,
   "metadata": {},
   "outputs": [
    {
     "data": {
      "text/plain": [
       "[1] \"1997-06-15 UTC\" \"1997-06-15 UTC\""
      ]
     },
     "metadata": {},
     "output_type": "display_data"
    }
   ],
   "source": [
    "parse_date_time(c(\"June 15th, 1997\", \"15th June, 1997\"), order=c(\"mdy\", \"dmy\"))"
   ]
  },
  {
   "cell_type": "markdown",
   "metadata": {},
   "source": [
    "> ### Manipulating datetimes"
   ]
  },
  {
   "cell_type": "code",
   "execution_count": 27,
   "metadata": {},
   "outputs": [
    {
     "name": "stderr",
     "output_type": "stream",
     "text": [
      "Parsed with column specification:\n",
      "cols(\n",
      "  date = col_character(),\n",
      "  max_temp = col_double(),\n",
      "  min_temp = col_double(),\n",
      "  mean_temp = col_double(),\n",
      "  mean_rh = col_double(),\n",
      "  events = col_character(),\n",
      "  cloud_cover = col_double()\n",
      ")\n"
     ]
    },
    {
     "data": {
      "text/html": [
       "<table>\n",
       "<thead><tr><th scope=col>date</th><th scope=col>max_temp</th><th scope=col>min_temp</th><th scope=col>mean_temp</th><th scope=col>mean_rh</th><th scope=col>events</th><th scope=col>cloud_cover</th></tr></thead>\n",
       "<tbody>\n",
       "\t<tr><td>2007-9-1</td><td>60      </td><td>51      </td><td>56      </td><td>75      </td><td>NA      </td><td>4       </td></tr>\n",
       "\t<tr><td>2007-9-2</td><td>60      </td><td>53      </td><td>56      </td><td>82      </td><td>Rain    </td><td>4       </td></tr>\n",
       "\t<tr><td>2007-9-3</td><td>57      </td><td>51      </td><td>54      </td><td>78      </td><td>NA      </td><td>6       </td></tr>\n",
       "\t<tr><td>2007-9-4</td><td>64      </td><td>50      </td><td>57      </td><td>80      </td><td>Rain    </td><td>6       </td></tr>\n",
       "\t<tr><td>2007-9-5</td><td>53      </td><td>48      </td><td>50      </td><td>90      </td><td>Rain    </td><td>7       </td></tr>\n",
       "\t<tr><td>2007-9-6</td><td>57      </td><td>42      </td><td>50      </td><td>69      </td><td>NA      </td><td>1       </td></tr>\n",
       "</tbody>\n",
       "</table>\n"
      ],
      "text/latex": [
       "\\begin{tabular}{r|lllllll}\n",
       " date & max\\_temp & min\\_temp & mean\\_temp & mean\\_rh & events & cloud\\_cover\\\\\n",
       "\\hline\n",
       "\t 2007-9-1 & 60       & 51       & 56       & 75       & NA       & 4       \\\\\n",
       "\t 2007-9-2 & 60       & 53       & 56       & 82       & Rain     & 4       \\\\\n",
       "\t 2007-9-3 & 57       & 51       & 54       & 78       & NA       & 6       \\\\\n",
       "\t 2007-9-4 & 64       & 50       & 57       & 80       & Rain     & 6       \\\\\n",
       "\t 2007-9-5 & 53       & 48       & 50       & 90       & Rain     & 7       \\\\\n",
       "\t 2007-9-6 & 57       & 42       & 50       & 69       & NA       & 1       \\\\\n",
       "\\end{tabular}\n"
      ],
      "text/markdown": [
       "\n",
       "| date | max_temp | min_temp | mean_temp | mean_rh | events | cloud_cover |\n",
       "|---|---|---|---|---|---|---|\n",
       "| 2007-9-1 | 60       | 51       | 56       | 75       | NA       | 4        |\n",
       "| 2007-9-2 | 60       | 53       | 56       | 82       | Rain     | 4        |\n",
       "| 2007-9-3 | 57       | 51       | 54       | 78       | NA       | 6        |\n",
       "| 2007-9-4 | 64       | 50       | 57       | 80       | Rain     | 6        |\n",
       "| 2007-9-5 | 53       | 48       | 50       | 90       | Rain     | 7        |\n",
       "| 2007-9-6 | 57       | 42       | 50       | 69       | NA       | 1        |\n",
       "\n"
      ],
      "text/plain": [
       "  date     max_temp min_temp mean_temp mean_rh events cloud_cover\n",
       "1 2007-9-1 60       51       56        75      NA     4          \n",
       "2 2007-9-2 60       53       56        82      Rain   4          \n",
       "3 2007-9-3 57       51       54        78      NA     6          \n",
       "4 2007-9-4 64       50       57        80      Rain   6          \n",
       "5 2007-9-5 53       48       50        90      Rain   7          \n",
       "6 2007-9-6 57       42       50        69      NA     1          "
      ]
     },
     "metadata": {},
     "output_type": "display_data"
    }
   ],
   "source": [
    "akl_daily = read_csv(\"datasets/akl_weather_daily.csv\")\n",
    "head(akl_daily)"
   ]
  },
  {
   "cell_type": "code",
   "execution_count": 28,
   "metadata": {},
   "outputs": [
    {
     "data": {
      "text/html": [
       "<table>\n",
       "<thead><tr><th scope=col>date</th><th scope=col>max_temp</th><th scope=col>min_temp</th><th scope=col>mean_temp</th><th scope=col>mean_rh</th><th scope=col>events</th><th scope=col>cloud_cover</th><th scope=col>year</th><th scope=col>yday</th><th scope=col>month</th></tr></thead>\n",
       "<tbody>\n",
       "\t<tr><td>2007-9-1</td><td>60      </td><td>51      </td><td>56      </td><td>75      </td><td>NA      </td><td>4       </td><td>2007    </td><td>244     </td><td>Sep     </td></tr>\n",
       "\t<tr><td>2007-9-2</td><td>60      </td><td>53      </td><td>56      </td><td>82      </td><td>Rain    </td><td>4       </td><td>2007    </td><td>245     </td><td>Sep     </td></tr>\n",
       "\t<tr><td>2007-9-3</td><td>57      </td><td>51      </td><td>54      </td><td>78      </td><td>NA      </td><td>6       </td><td>2007    </td><td>246     </td><td>Sep     </td></tr>\n",
       "\t<tr><td>2007-9-4</td><td>64      </td><td>50      </td><td>57      </td><td>80      </td><td>Rain    </td><td>6       </td><td>2007    </td><td>247     </td><td>Sep     </td></tr>\n",
       "\t<tr><td>2007-9-5</td><td>53      </td><td>48      </td><td>50      </td><td>90      </td><td>Rain    </td><td>7       </td><td>2007    </td><td>248     </td><td>Sep     </td></tr>\n",
       "\t<tr><td>2007-9-6</td><td>57      </td><td>42      </td><td>50      </td><td>69      </td><td>NA      </td><td>1       </td><td>2007    </td><td>249     </td><td>Sep     </td></tr>\n",
       "</tbody>\n",
       "</table>\n"
      ],
      "text/latex": [
       "\\begin{tabular}{r|llllllllll}\n",
       " date & max\\_temp & min\\_temp & mean\\_temp & mean\\_rh & events & cloud\\_cover & year & yday & month\\\\\n",
       "\\hline\n",
       "\t 2007-9-1 & 60       & 51       & 56       & 75       & NA       & 4        & 2007     & 244      & Sep     \\\\\n",
       "\t 2007-9-2 & 60       & 53       & 56       & 82       & Rain     & 4        & 2007     & 245      & Sep     \\\\\n",
       "\t 2007-9-3 & 57       & 51       & 54       & 78       & NA       & 6        & 2007     & 246      & Sep     \\\\\n",
       "\t 2007-9-4 & 64       & 50       & 57       & 80       & Rain     & 6        & 2007     & 247      & Sep     \\\\\n",
       "\t 2007-9-5 & 53       & 48       & 50       & 90       & Rain     & 7        & 2007     & 248      & Sep     \\\\\n",
       "\t 2007-9-6 & 57       & 42       & 50       & 69       & NA       & 1        & 2007     & 249      & Sep     \\\\\n",
       "\\end{tabular}\n"
      ],
      "text/markdown": [
       "\n",
       "| date | max_temp | min_temp | mean_temp | mean_rh | events | cloud_cover | year | yday | month |\n",
       "|---|---|---|---|---|---|---|---|---|---|\n",
       "| 2007-9-1 | 60       | 51       | 56       | 75       | NA       | 4        | 2007     | 244      | Sep      |\n",
       "| 2007-9-2 | 60       | 53       | 56       | 82       | Rain     | 4        | 2007     | 245      | Sep      |\n",
       "| 2007-9-3 | 57       | 51       | 54       | 78       | NA       | 6        | 2007     | 246      | Sep      |\n",
       "| 2007-9-4 | 64       | 50       | 57       | 80       | Rain     | 6        | 2007     | 247      | Sep      |\n",
       "| 2007-9-5 | 53       | 48       | 50       | 90       | Rain     | 7        | 2007     | 248      | Sep      |\n",
       "| 2007-9-6 | 57       | 42       | 50       | 69       | NA       | 1        | 2007     | 249      | Sep      |\n",
       "\n"
      ],
      "text/plain": [
       "  date     max_temp min_temp mean_temp mean_rh events cloud_cover year yday\n",
       "1 2007-9-1 60       51       56        75      NA     4           2007 244 \n",
       "2 2007-9-2 60       53       56        82      Rain   4           2007 245 \n",
       "3 2007-9-3 57       51       54        78      NA     6           2007 246 \n",
       "4 2007-9-4 64       50       57        80      Rain   6           2007 247 \n",
       "5 2007-9-5 53       48       50        90      Rain   7           2007 248 \n",
       "6 2007-9-6 57       42       50        69      NA     1           2007 249 \n",
       "  month\n",
       "1 Sep  \n",
       "2 Sep  \n",
       "3 Sep  \n",
       "4 Sep  \n",
       "5 Sep  \n",
       "6 Sep  "
      ]
     },
     "metadata": {},
     "output_type": "display_data"
    }
   ],
   "source": [
    "akl_daily_m <- akl_daily %>%\n",
    "    mutate(\n",
    "        year = year(date),\n",
    "        yday = yday(date),\n",
    "        month = month(date, label=TRUE)\n",
    "    )\n",
    "head(akl_daily_m)"
   ]
  },
  {
   "cell_type": "markdown",
   "metadata": {},
   "source": [
    "> ### Other lubridate features\n",
    "- Handling timezones\n",
    "- Fast parsing of standard formats\n",
    "- Outputting datetimes\n"
   ]
  },
  {
   "cell_type": "markdown",
   "metadata": {},
   "source": [
    "# Parsing and Manipulating Dates and Times with lubridate\n",
    "\n",
    "Dates and times come in a huge assortment of formats, so the first hurdle is often to parse the format you have into an R datetime. We will explore how to import dates and times with the lubridate package. We'll also explore how to extract parts of a datetime. We'll practice by exploring the weather in R's birthplace, Auckland NZ."
   ]
  },
  {
   "cell_type": "markdown",
   "metadata": {},
   "source": [
    "## Parsing dates with lubridate\n",
    "\n",
    "> ### ymd()\n",
    "- 27th of February 2013\n",
    "- `ymd()` - year, then month, then day"
   ]
  },
  {
   "cell_type": "code",
   "execution_count": 29,
   "metadata": {},
   "outputs": [
    {
     "data": {
      "text/html": [
       "<time datetime=\"1997-06-15\">1997-06-15</time>"
      ],
      "text/latex": [
       "1997-06-15"
      ],
      "text/markdown": [
       "1997-06-15"
      ],
      "text/plain": [
       "[1] \"1997-06-15\""
      ]
     },
     "metadata": {},
     "output_type": "display_data"
    }
   ],
   "source": [
    "ymd(\"1997-06-15\")"
   ]
  },
  {
   "cell_type": "code",
   "execution_count": 30,
   "metadata": {},
   "outputs": [
    {
     "data": {
      "text/html": [
       "<time datetime=\"1997-06-15\">1997-06-15</time>"
      ],
      "text/latex": [
       "1997-06-15"
      ],
      "text/markdown": [
       "1997-06-15"
      ],
      "text/plain": [
       "[1] \"1997-06-15\""
      ]
     },
     "metadata": {},
     "output_type": "display_data"
    }
   ],
   "source": [
    "ymd(\"97/6/15\")"
   ]
  },
  {
   "cell_type": "code",
   "execution_count": 31,
   "metadata": {},
   "outputs": [
    {
     "data": {
      "text/html": [
       "<time datetime=\"1997-06-15\">1997-06-15</time>"
      ],
      "text/latex": [
       "1997-06-15"
      ],
      "text/markdown": [
       "1997-06-15"
      ],
      "text/plain": [
       "[1] \"1997-06-15\""
      ]
     },
     "metadata": {},
     "output_type": "display_data"
    }
   ],
   "source": [
    "ymd(\"97t6t15\")"
   ]
  },
  {
   "cell_type": "markdown",
   "metadata": {},
   "source": [
    "> ### Friends of ymd()\n",
    "- `ymd()`,`ydm()`,`mdy()`,`myd()`,`dmy()`,`dym()`, `dmy_hm()`\n",
    "- `parse_date_time(x = ___, order = ___)`\n",
    "\n",
    "> ### Formatting characters\n",
    "|Character|Meaning||Character|Meaning|\n",
    "|---|---|---|---|---|\n",
    "|`d`|numeric day of the month||`a`|Abbreviated weekday|\n",
    "|`m`|month of the year||`A`|Full weekday|\n",
    "|`y`|Year with century||`b`|Abbreviated month name|\n",
    "|`Y`|year without century||`B`|full month name|\n",
    "|`H`|hours (24 hours)||`I`|hours (12 hour)|\n",
    "|`M`|minutes||`P`|AM/PM|\n",
    "|`z`|Timezone, offset||||"
   ]
  },
  {
   "cell_type": "markdown",
   "metadata": {},
   "source": [
    "### Selecting the right parsing function\n",
    "\n",
    "`lubridate` provides a set of functions for parsing dates of a known order. For example, [`ymd()`](https://www.rdocumentation.org/packages/lubridate/topics/ymd) will parse dates with year first, followed by month and then day. The parsing is flexible, for example, it will parse the `m` whether it is numeric (e.g. `9` or `09`), a full month name (e.g. `September`), or an abbreviated month name (e.g. `Sep`).\n",
    "\n",
    "All the functions with `y`, `m` and `d` in any order exist. If the dates have times as well, you can use the functions that start with `ymd`, `dmy`, `mdy` or `ydm` and are followed by any of `_h`, `_hm` or [`_hms`](https://www.rdocumentation.org/packages/lubridate/topics/ymd_hms)."
   ]
  },
  {
   "cell_type": "code",
   "execution_count": 32,
   "metadata": {},
   "outputs": [
    {
     "data": {
      "text/html": [
       "<time datetime=\"2010-09-20\">2010-09-20</time>"
      ],
      "text/latex": [
       "2010-09-20"
      ],
      "text/markdown": [
       "2010-09-20"
      ],
      "text/plain": [
       "[1] \"2010-09-20\""
      ]
     },
     "metadata": {},
     "output_type": "display_data"
    },
    {
     "data": {
      "text/html": [
       "<time datetime=\"2010-01-02\">2010-01-02</time>"
      ],
      "text/latex": [
       "2010-01-02"
      ],
      "text/markdown": [
       "2010-01-02"
      ],
      "text/plain": [
       "[1] \"2010-01-02\""
      ]
     },
     "metadata": {},
     "output_type": "display_data"
    },
    {
     "data": {
      "text/plain": [
       "[1] \"2010-09-12 14:00:00 UTC\""
      ]
     },
     "metadata": {},
     "output_type": "display_data"
    }
   ],
   "source": [
    "# Parse x \n",
    "x <- \"2010 September 20th\" # 2010-09-20\n",
    "ymd(x)\n",
    "\n",
    "# Parse y \n",
    "y <- \"02.01.2010\"  # 2010-01-02\n",
    "dmy(y)\n",
    "\n",
    "# Parse z \n",
    "z <- \"Sep, 12th 2010 14:00\"  # 2010-09-12T14:00\n",
    "mdy_hm(z)"
   ]
  },
  {
   "cell_type": "markdown",
   "metadata": {},
   "source": [
    "### Specifying an order with `parse_date_time()`\n",
    "\n",
    "What about if you have something in a really weird order like `dym_msh`?There's no named function just for that order, but that is where [`parse_date_time()`](https://www.rdocumentation.org/packages/lubridate/topics/parse_date_time) comes in. `parse_date_time()` takes an additional argument, `orders`, where you can specify the order of the components in the date. \n",
    "\n",
    "For example, to parse `\"2010 September 20th\"` you could say `parse_date_time(\"2010 September 20th\", orders = \"ymd\")` and that would be equivalent to using the `ymd()` function from the previous exercise.\n",
    "\n",
    "One advantage of `parse_date_time()` is that you can use more format characters. For example, you can specify weekday names with `A`, `I` for 12 hour time, am/pm indicators with `p` and many others. Another big advantage is that you can specify a vector of orders, and that allows parsing of dates where multiple formats might be used."
   ]
  },
  {
   "cell_type": "code",
   "execution_count": 33,
   "metadata": {},
   "outputs": [
    {
     "data": {
      "text/plain": [
       "[1] \"2010-06-01 16:00:00 UTC\""
      ]
     },
     "metadata": {},
     "output_type": "display_data"
    },
    {
     "data": {
      "text/plain": [
       "[1] \"2001-10-07 UTC\" \"2002-10-13 UTC\" \"2003-04-13 UTC\" \"2005-04-17 UTC\"\n",
       "[5] \"2017-04-23 UTC\""
      ]
     },
     "metadata": {},
     "output_type": "display_data"
    },
    {
     "data": {
      "text/plain": [
       "[1] \"1282-12-11 UTC\" \"1372-05-01 UTC\" \"1253-01-01 UTC\""
      ]
     },
     "metadata": {},
     "output_type": "display_data"
    }
   ],
   "source": [
    "# Specify an order string to parse x\n",
    "x <- \"Monday June 1st 2010 at 4pm\"\n",
    "parse_date_time(x, orders = \"ABdyIp\")\n",
    "\n",
    "# Specify order to include both \"mdy\" and \"dmy\"\n",
    "two_orders <- c(\"October 7, 2001\", \"October 13, 2002\", \"April 13, 2003\", \n",
    "  \"17 April 2005\", \"23 April 2017\")\n",
    "parse_date_time(two_orders, orders = c(\"Bdy\", \"Bdy\", \"Bdy\", \"dBy\", \"dBy\"))\n",
    "\n",
    "# Specify order to include \"dOmY\", \"OmY\" and \"Y\"\n",
    "short_dates <- c(\"11 December 1282\", \"May 1372\", \"1253\")\n",
    "parse_date_time(short_dates, orders = c(\"d0mY\", \"0mY\", \"Y\"))\n"
   ]
  },
  {
   "cell_type": "markdown",
   "metadata": {},
   "source": [
    "> Note:  when a date component is missing, it's just set to `1`? For example, the input `1253` resulted in the date `1253-01-01`."
   ]
  },
  {
   "cell_type": "markdown",
   "metadata": {},
   "source": [
    "## Weather in Auckland\n",
    "\n",
    "> ### make_date(year, month, day)"
   ]
  },
  {
   "cell_type": "code",
   "execution_count": 34,
   "metadata": {},
   "outputs": [
    {
     "data": {
      "text/html": [
       "<time datetime=\"1997-06-15\">1997-06-15</time>"
      ],
      "text/latex": [
       "1997-06-15"
      ],
      "text/markdown": [
       "1997-06-15"
      ],
      "text/plain": [
       "[1] \"1997-06-15\""
      ]
     },
     "metadata": {},
     "output_type": "display_data"
    }
   ],
   "source": [
    "make_date(year=1997, month=6, day=15)"
   ]
  },
  {
   "cell_type": "markdown",
   "metadata": {},
   "source": [
    "`make_datetime(year, month, day, hour, min, sec)` for datetimes\n",
    "\n",
    "> ### dplyr Review\n",
    "- `mutate()` - add new columns (or overwrite old ones)\n",
    "- `filter()` - subset rows\n",
    "- `select()` - subset columns\n",
    "- `arrange()` - order rows\n",
    "- `summarise()` - summarise rows\n",
    "- `group_by()` - useful in conjuction with `summarise()`\n"
   ]
  },
  {
   "cell_type": "markdown",
   "metadata": {},
   "source": [
    "### Import daily weather data\n",
    "\n",
    "In practice you won't be parsing isolated dates and times, they'll be part of a larger dataset. We'll be working with weather data from Auckland NZ.\n",
    "\n",
    "There are two data sets: \n",
    "- `akl_weather_daily.csv` a set of once daily summaries for 10 years, and \n",
    "- `akl_weather_hourly_2016.csv` observations every half hour for 2016."
   ]
  },
  {
   "cell_type": "code",
   "execution_count": 35,
   "metadata": {},
   "outputs": [
    {
     "name": "stderr",
     "output_type": "stream",
     "text": [
      "Parsed with column specification:\n",
      "cols(\n",
      "  date = col_character(),\n",
      "  max_temp = col_double(),\n",
      "  min_temp = col_double(),\n",
      "  mean_temp = col_double(),\n",
      "  mean_rh = col_double(),\n",
      "  events = col_character(),\n",
      "  cloud_cover = col_double()\n",
      ")\n"
     ]
    },
    {
     "data": {
      "text/html": [
       "<table>\n",
       "<thead><tr><th scope=col>date</th><th scope=col>max_temp</th><th scope=col>min_temp</th><th scope=col>mean_temp</th><th scope=col>mean_rh</th><th scope=col>events</th><th scope=col>cloud_cover</th></tr></thead>\n",
       "<tbody>\n",
       "\t<tr><td>2007-9-1</td><td>60      </td><td>51      </td><td>56      </td><td>75      </td><td>NA      </td><td>4       </td></tr>\n",
       "\t<tr><td>2007-9-2</td><td>60      </td><td>53      </td><td>56      </td><td>82      </td><td>Rain    </td><td>4       </td></tr>\n",
       "\t<tr><td>2007-9-3</td><td>57      </td><td>51      </td><td>54      </td><td>78      </td><td>NA      </td><td>6       </td></tr>\n",
       "\t<tr><td>2007-9-4</td><td>64      </td><td>50      </td><td>57      </td><td>80      </td><td>Rain    </td><td>6       </td></tr>\n",
       "\t<tr><td>2007-9-5</td><td>53      </td><td>48      </td><td>50      </td><td>90      </td><td>Rain    </td><td>7       </td></tr>\n",
       "\t<tr><td>2007-9-6</td><td>57      </td><td>42      </td><td>50      </td><td>69      </td><td>NA      </td><td>1       </td></tr>\n",
       "</tbody>\n",
       "</table>\n"
      ],
      "text/latex": [
       "\\begin{tabular}{r|lllllll}\n",
       " date & max\\_temp & min\\_temp & mean\\_temp & mean\\_rh & events & cloud\\_cover\\\\\n",
       "\\hline\n",
       "\t 2007-9-1 & 60       & 51       & 56       & 75       & NA       & 4       \\\\\n",
       "\t 2007-9-2 & 60       & 53       & 56       & 82       & Rain     & 4       \\\\\n",
       "\t 2007-9-3 & 57       & 51       & 54       & 78       & NA       & 6       \\\\\n",
       "\t 2007-9-4 & 64       & 50       & 57       & 80       & Rain     & 6       \\\\\n",
       "\t 2007-9-5 & 53       & 48       & 50       & 90       & Rain     & 7       \\\\\n",
       "\t 2007-9-6 & 57       & 42       & 50       & 69       & NA       & 1       \\\\\n",
       "\\end{tabular}\n"
      ],
      "text/markdown": [
       "\n",
       "| date | max_temp | min_temp | mean_temp | mean_rh | events | cloud_cover |\n",
       "|---|---|---|---|---|---|---|\n",
       "| 2007-9-1 | 60       | 51       | 56       | 75       | NA       | 4        |\n",
       "| 2007-9-2 | 60       | 53       | 56       | 82       | Rain     | 4        |\n",
       "| 2007-9-3 | 57       | 51       | 54       | 78       | NA       | 6        |\n",
       "| 2007-9-4 | 64       | 50       | 57       | 80       | Rain     | 6        |\n",
       "| 2007-9-5 | 53       | 48       | 50       | 90       | Rain     | 7        |\n",
       "| 2007-9-6 | 57       | 42       | 50       | 69       | NA       | 1        |\n",
       "\n"
      ],
      "text/plain": [
       "  date     max_temp min_temp mean_temp mean_rh events cloud_cover\n",
       "1 2007-9-1 60       51       56        75      NA     4          \n",
       "2 2007-9-2 60       53       56        82      Rain   4          \n",
       "3 2007-9-3 57       51       54        78      NA     6          \n",
       "4 2007-9-4 64       50       57        80      Rain   6          \n",
       "5 2007-9-5 53       48       50        90      Rain   7          \n",
       "6 2007-9-6 57       42       50        69      NA     1          "
      ]
     },
     "metadata": {},
     "output_type": "display_data"
    }
   ],
   "source": [
    "# Import CSV with read_csv()\n",
    "akl_daily_raw <- read_csv(\"datasets/akl_weather_daily.csv\")\n",
    "\n",
    "# Print akl_daily_raw\n",
    "head(akl_daily_raw)"
   ]
  },
  {
   "cell_type": "code",
   "execution_count": 36,
   "metadata": {},
   "outputs": [
    {
     "data": {
      "text/html": [
       "<table>\n",
       "<thead><tr><th scope=col>date</th><th scope=col>max_temp</th><th scope=col>min_temp</th><th scope=col>mean_temp</th><th scope=col>mean_rh</th><th scope=col>events</th><th scope=col>cloud_cover</th></tr></thead>\n",
       "<tbody>\n",
       "\t<tr><td>2007-09-01</td><td>60        </td><td>51        </td><td>56        </td><td>75        </td><td>NA        </td><td>4         </td></tr>\n",
       "\t<tr><td>2007-09-02</td><td>60        </td><td>53        </td><td>56        </td><td>82        </td><td>Rain      </td><td>4         </td></tr>\n",
       "\t<tr><td>2007-09-03</td><td>57        </td><td>51        </td><td>54        </td><td>78        </td><td>NA        </td><td>6         </td></tr>\n",
       "\t<tr><td>2007-09-04</td><td>64        </td><td>50        </td><td>57        </td><td>80        </td><td>Rain      </td><td>6         </td></tr>\n",
       "\t<tr><td>2007-09-05</td><td>53        </td><td>48        </td><td>50        </td><td>90        </td><td>Rain      </td><td>7         </td></tr>\n",
       "\t<tr><td>2007-09-06</td><td>57        </td><td>42        </td><td>50        </td><td>69        </td><td>NA        </td><td>1         </td></tr>\n",
       "</tbody>\n",
       "</table>\n"
      ],
      "text/latex": [
       "\\begin{tabular}{r|lllllll}\n",
       " date & max\\_temp & min\\_temp & mean\\_temp & mean\\_rh & events & cloud\\_cover\\\\\n",
       "\\hline\n",
       "\t 2007-09-01 & 60         & 51         & 56         & 75         & NA         & 4         \\\\\n",
       "\t 2007-09-02 & 60         & 53         & 56         & 82         & Rain       & 4         \\\\\n",
       "\t 2007-09-03 & 57         & 51         & 54         & 78         & NA         & 6         \\\\\n",
       "\t 2007-09-04 & 64         & 50         & 57         & 80         & Rain       & 6         \\\\\n",
       "\t 2007-09-05 & 53         & 48         & 50         & 90         & Rain       & 7         \\\\\n",
       "\t 2007-09-06 & 57         & 42         & 50         & 69         & NA         & 1         \\\\\n",
       "\\end{tabular}\n"
      ],
      "text/markdown": [
       "\n",
       "| date | max_temp | min_temp | mean_temp | mean_rh | events | cloud_cover |\n",
       "|---|---|---|---|---|---|---|\n",
       "| 2007-09-01 | 60         | 51         | 56         | 75         | NA         | 4          |\n",
       "| 2007-09-02 | 60         | 53         | 56         | 82         | Rain       | 4          |\n",
       "| 2007-09-03 | 57         | 51         | 54         | 78         | NA         | 6          |\n",
       "| 2007-09-04 | 64         | 50         | 57         | 80         | Rain       | 6          |\n",
       "| 2007-09-05 | 53         | 48         | 50         | 90         | Rain       | 7          |\n",
       "| 2007-09-06 | 57         | 42         | 50         | 69         | NA         | 1          |\n",
       "\n"
      ],
      "text/plain": [
       "  date       max_temp min_temp mean_temp mean_rh events cloud_cover\n",
       "1 2007-09-01 60       51       56        75      NA     4          \n",
       "2 2007-09-02 60       53       56        82      Rain   4          \n",
       "3 2007-09-03 57       51       54        78      NA     6          \n",
       "4 2007-09-04 64       50       57        80      Rain   6          \n",
       "5 2007-09-05 53       48       50        90      Rain   7          \n",
       "6 2007-09-06 57       42       50        69      NA     1          "
      ]
     },
     "metadata": {},
     "output_type": "display_data"
    }
   ],
   "source": [
    "# Parse date \n",
    "akl_daily <- akl_daily_raw %>%\n",
    "  mutate(date = ymd(date))\n",
    "\n",
    "# Print akl_daily\n",
    "head(akl_daily)"
   ]
  },
  {
   "cell_type": "code",
   "execution_count": 37,
   "metadata": {},
   "outputs": [
    {
     "name": "stderr",
     "output_type": "stream",
     "text": [
      "Warning message:\n",
      "\"Removed 1 row(s) containing missing values (geom_path).\""
     ]
    },
    {
     "data": {
      "image/png": "[encoded data removed]",
      "text/plain": [
       "plot without title"
      ]
     },
     "metadata": {},
     "output_type": "display_data"
    }
   ],
   "source": [
    "# Plot to check work\n",
    "akl_daily %>%\n",
    "    ggplot(aes(x = date, y = max_temp)) +\n",
    "        geom_line() "
   ]
  },
  {
   "cell_type": "markdown",
   "metadata": {},
   "source": [
    "The temperatures are in farenheit. Yup, summer falls in Dec-Jan-Feb."
   ]
  },
  {
   "cell_type": "markdown",
   "metadata": {},
   "source": [
    "### Import hourly weather data\n",
    "\n",
    "The hourly data is a little different. The date information is spread over three columns `year`, `month` and `mday`, so we'll need to use `make_date()` to combine them."
   ]
  },
  {
   "cell_type": "code",
   "execution_count": 38,
   "metadata": {},
   "outputs": [
    {
     "name": "stderr",
     "output_type": "stream",
     "text": [
      "Parsed with column specification:\n",
      "cols(\n",
      "  year = col_double(),\n",
      "  month = col_double(),\n",
      "  mday = col_double(),\n",
      "  time = col_time(format = \"\"),\n",
      "  temperature = col_double(),\n",
      "  weather = col_character(),\n",
      "  conditions = col_character(),\n",
      "  events = col_character(),\n",
      "  humidity = col_double(),\n",
      "  date_utc = col_datetime(format = \"\")\n",
      ")\n"
     ]
    },
    {
     "data": {
      "text/html": [
       "<table>\n",
       "<thead><tr><th scope=col>year</th><th scope=col>month</th><th scope=col>mday</th><th scope=col>time</th><th scope=col>temperature</th><th scope=col>weather</th><th scope=col>conditions</th><th scope=col>events</th><th scope=col>humidity</th><th scope=col>date_utc</th></tr></thead>\n",
       "<tbody>\n",
       "\t<tr><td>2016               </td><td>1                  </td><td>1                  </td><td>00:00:00           </td><td>68                 </td><td>Clear              </td><td>Clear              </td><td>NA                 </td><td>68                 </td><td>2015-12-31 11:00:00</td></tr>\n",
       "\t<tr><td>2016               </td><td>1                  </td><td>1                  </td><td>00:30:00           </td><td>68                 </td><td>Clear              </td><td>Clear              </td><td>NA                 </td><td>68                 </td><td>2015-12-31 11:30:00</td></tr>\n",
       "\t<tr><td>2016               </td><td>1                  </td><td>1                  </td><td>01:00:00           </td><td>68                 </td><td>Clear              </td><td>Clear              </td><td>NA                 </td><td>73                 </td><td>2015-12-31 12:00:00</td></tr>\n",
       "\t<tr><td>2016               </td><td>1                  </td><td>1                  </td><td>01:30:00           </td><td>68                 </td><td>Clear              </td><td>Clear              </td><td>NA                 </td><td>68                 </td><td>2015-12-31 12:30:00</td></tr>\n",
       "\t<tr><td>2016               </td><td>1                  </td><td>1                  </td><td>02:00:00           </td><td>68                 </td><td>Clear              </td><td>Clear              </td><td>NA                 </td><td>68                 </td><td>2015-12-31 13:00:00</td></tr>\n",
       "\t<tr><td>2016               </td><td>1                  </td><td>1                  </td><td>02:30:00           </td><td>68                 </td><td>Clear              </td><td>Clear              </td><td>NA                 </td><td>68                 </td><td>2015-12-31 13:30:00</td></tr>\n",
       "</tbody>\n",
       "</table>\n"
      ],
      "text/latex": [
       "\\begin{tabular}{r|llllllllll}\n",
       " year & month & mday & time & temperature & weather & conditions & events & humidity & date\\_utc\\\\\n",
       "\\hline\n",
       "\t 2016                & 1                   & 1                   & 00:00:00            & 68                  & Clear               & Clear               & NA                  & 68                  & 2015-12-31 11:00:00\\\\\n",
       "\t 2016                & 1                   & 1                   & 00:30:00            & 68                  & Clear               & Clear               & NA                  & 68                  & 2015-12-31 11:30:00\\\\\n",
       "\t 2016                & 1                   & 1                   & 01:00:00            & 68                  & Clear               & Clear               & NA                  & 73                  & 2015-12-31 12:00:00\\\\\n",
       "\t 2016                & 1                   & 1                   & 01:30:00            & 68                  & Clear               & Clear               & NA                  & 68                  & 2015-12-31 12:30:00\\\\\n",
       "\t 2016                & 1                   & 1                   & 02:00:00            & 68                  & Clear               & Clear               & NA                  & 68                  & 2015-12-31 13:00:00\\\\\n",
       "\t 2016                & 1                   & 1                   & 02:30:00            & 68                  & Clear               & Clear               & NA                  & 68                  & 2015-12-31 13:30:00\\\\\n",
       "\\end{tabular}\n"
      ],
      "text/markdown": [
       "\n",
       "| year | month | mday | time | temperature | weather | conditions | events | humidity | date_utc |\n",
       "|---|---|---|---|---|---|---|---|---|---|\n",
       "| 2016                | 1                   | 1                   | 00:00:00            | 68                  | Clear               | Clear               | NA                  | 68                  | 2015-12-31 11:00:00 |\n",
       "| 2016                | 1                   | 1                   | 00:30:00            | 68                  | Clear               | Clear               | NA                  | 68                  | 2015-12-31 11:30:00 |\n",
       "| 2016                | 1                   | 1                   | 01:00:00            | 68                  | Clear               | Clear               | NA                  | 73                  | 2015-12-31 12:00:00 |\n",
       "| 2016                | 1                   | 1                   | 01:30:00            | 68                  | Clear               | Clear               | NA                  | 68                  | 2015-12-31 12:30:00 |\n",
       "| 2016                | 1                   | 1                   | 02:00:00            | 68                  | Clear               | Clear               | NA                  | 68                  | 2015-12-31 13:00:00 |\n",
       "| 2016                | 1                   | 1                   | 02:30:00            | 68                  | Clear               | Clear               | NA                  | 68                  | 2015-12-31 13:30:00 |\n",
       "\n"
      ],
      "text/plain": [
       "  year month mday time     temperature weather conditions events humidity\n",
       "1 2016 1     1    00:00:00 68          Clear   Clear      NA     68      \n",
       "2 2016 1     1    00:30:00 68          Clear   Clear      NA     68      \n",
       "3 2016 1     1    01:00:00 68          Clear   Clear      NA     73      \n",
       "4 2016 1     1    01:30:00 68          Clear   Clear      NA     68      \n",
       "5 2016 1     1    02:00:00 68          Clear   Clear      NA     68      \n",
       "6 2016 1     1    02:30:00 68          Clear   Clear      NA     68      \n",
       "  date_utc           \n",
       "1 2015-12-31 11:00:00\n",
       "2 2015-12-31 11:30:00\n",
       "3 2015-12-31 12:00:00\n",
       "4 2015-12-31 12:30:00\n",
       "5 2015-12-31 13:00:00\n",
       "6 2015-12-31 13:30:00"
      ]
     },
     "metadata": {},
     "output_type": "display_data"
    }
   ],
   "source": [
    "akl_hourly_raw <- read_csv(\"datasets/akl_weather_hourly_2016.csv\")\n",
    "head(akl_hourly_raw)"
   ]
  },
  {
   "cell_type": "markdown",
   "metadata": {},
   "source": [
    "Then the time information is in a separate column again, `time`. It's quite common to find `date` and `time` split across different variables. One way to construct the datetimes is to paste the date and time together and then parse them.\n"
   ]
  },
  {
   "cell_type": "code",
   "execution_count": 39,
   "metadata": {},
   "outputs": [
    {
     "data": {
      "text/html": [
       "<table>\n",
       "<thead><tr><th scope=col>date</th><th scope=col>time</th><th scope=col>datetime</th></tr></thead>\n",
       "<tbody>\n",
       "\t<tr><td>2016-01-01         </td><td>00:00:00           </td><td>2016-01-01 00:00:00</td></tr>\n",
       "\t<tr><td>2016-01-01         </td><td>00:30:00           </td><td>2016-01-01 00:30:00</td></tr>\n",
       "\t<tr><td>2016-01-01         </td><td>01:00:00           </td><td>2016-01-01 01:00:00</td></tr>\n",
       "\t<tr><td>2016-01-01         </td><td>01:30:00           </td><td>2016-01-01 01:30:00</td></tr>\n",
       "\t<tr><td>2016-01-01         </td><td>02:00:00           </td><td>2016-01-01 02:00:00</td></tr>\n",
       "\t<tr><td>2016-01-01         </td><td>02:30:00           </td><td>2016-01-01 02:30:00</td></tr>\n",
       "</tbody>\n",
       "</table>\n"
      ],
      "text/latex": [
       "\\begin{tabular}{r|lll}\n",
       " date & time & datetime\\\\\n",
       "\\hline\n",
       "\t 2016-01-01          & 00:00:00            & 2016-01-01 00:00:00\\\\\n",
       "\t 2016-01-01          & 00:30:00            & 2016-01-01 00:30:00\\\\\n",
       "\t 2016-01-01          & 01:00:00            & 2016-01-01 01:00:00\\\\\n",
       "\t 2016-01-01          & 01:30:00            & 2016-01-01 01:30:00\\\\\n",
       "\t 2016-01-01          & 02:00:00            & 2016-01-01 02:00:00\\\\\n",
       "\t 2016-01-01          & 02:30:00            & 2016-01-01 02:30:00\\\\\n",
       "\\end{tabular}\n"
      ],
      "text/markdown": [
       "\n",
       "| date | time | datetime |\n",
       "|---|---|---|\n",
       "| 2016-01-01          | 00:00:00            | 2016-01-01 00:00:00 |\n",
       "| 2016-01-01          | 00:30:00            | 2016-01-01 00:30:00 |\n",
       "| 2016-01-01          | 01:00:00            | 2016-01-01 01:00:00 |\n",
       "| 2016-01-01          | 01:30:00            | 2016-01-01 01:30:00 |\n",
       "| 2016-01-01          | 02:00:00            | 2016-01-01 02:00:00 |\n",
       "| 2016-01-01          | 02:30:00            | 2016-01-01 02:30:00 |\n",
       "\n"
      ],
      "text/plain": [
       "  date       time     datetime           \n",
       "1 2016-01-01 00:00:00 2016-01-01 00:00:00\n",
       "2 2016-01-01 00:30:00 2016-01-01 00:30:00\n",
       "3 2016-01-01 01:00:00 2016-01-01 01:00:00\n",
       "4 2016-01-01 01:30:00 2016-01-01 01:30:00\n",
       "5 2016-01-01 02:00:00 2016-01-01 02:00:00\n",
       "6 2016-01-01 02:30:00 2016-01-01 02:30:00"
      ]
     },
     "metadata": {},
     "output_type": "display_data"
    }
   ],
   "source": [
    "# Use make_date() to combine year, month and mday \n",
    "akl_hourly  <- akl_hourly_raw  %>% \n",
    "  mutate(date = make_date(year = year, month = month, day = mday))\n",
    "\n",
    "# Parse datetime_string \n",
    "akl_hourly <- akl_hourly  %>% \n",
    "  mutate(\n",
    "    datetime_string = paste(date, time, sep = \"T\"),\n",
    "    datetime = ymd_hms(datetime_string)\n",
    "  )\n",
    "\n",
    "# Print date, time and datetime columns of akl_hourly\n",
    "akl_hourly %>% \n",
    "    select(date, time, datetime) %>%\n",
    "        head()"
   ]
  },
  {
   "cell_type": "code",
   "execution_count": 40,
   "metadata": {},
   "outputs": [
    {
     "data": {
      "image/png": "[encoded data removed]",
      "text/plain": [
       "plot without title"
      ]
     },
     "metadata": {},
     "output_type": "display_data"
    }
   ],
   "source": [
    "# Plot to check work\n",
    "akl_hourly %>%\n",
    "    ggplot(aes(x = datetime, y = temperature)) +\n",
    "        geom_line()\n"
   ]
  },
  {
   "cell_type": "markdown",
   "metadata": {},
   "source": [
    "It's interesting how the day to day variation is about half the size of the yearly variation."
   ]
  },
  {
   "cell_type": "markdown",
   "metadata": {},
   "source": [
    "## Extracting parts of a datetime\n",
    "\n",
    "> ### Extracting parts of a datetime"
   ]
  },
  {
   "cell_type": "code",
   "execution_count": 42,
   "metadata": {},
   "outputs": [
    {
     "data": {
      "text/html": [
       "<time datetime=\"1997-06-15\">1997-06-15</time>"
      ],
      "text/latex": [
       "1997-06-15"
      ],
      "text/markdown": [
       "1997-06-15"
      ],
      "text/plain": [
       "[1] \"1997-06-15\""
      ]
     },
     "metadata": {},
     "output_type": "display_data"
    }
   ],
   "source": [
    "yob = ymd(\"1997-06-15\")\n",
    "yob"
   ]
  },
  {
   "cell_type": "code",
   "execution_count": 43,
   "metadata": {},
   "outputs": [
    {
     "data": {
      "text/html": [
       "1997"
      ],
      "text/latex": [
       "1997"
      ],
      "text/markdown": [
       "1997"
      ],
      "text/plain": [
       "[1] 1997"
      ]
     },
     "metadata": {},
     "output_type": "display_data"
    }
   ],
   "source": [
    "year(yob)"
   ]
  },
  {
   "cell_type": "code",
   "execution_count": 45,
   "metadata": {},
   "outputs": [
    {
     "data": {
      "text/html": [
       "6"
      ],
      "text/latex": [
       "6"
      ],
      "text/markdown": [
       "6"
      ],
      "text/plain": [
       "[1] 6"
      ]
     },
     "metadata": {},
     "output_type": "display_data"
    }
   ],
   "source": [
    "month(yob)"
   ]
  },
  {
   "cell_type": "code",
   "execution_count": 46,
   "metadata": {},
   "outputs": [
    {
     "data": {
      "text/html": [
       "15"
      ],
      "text/latex": [
       "15"
      ],
      "text/markdown": [
       "15"
      ],
      "text/plain": [
       "[1] 15"
      ]
     },
     "metadata": {},
     "output_type": "display_data"
    }
   ],
   "source": [
    "day(yob)"
   ]
  },
  {
   "cell_type": "markdown",
   "metadata": {},
   "source": [
    "> ### Extracting parts of a datetime\n",
    "|Function|Extracts|\n",
    "|---|---|\n",
    "|`year()`|Year with century|\n",
    "|`month()`|Month (1-12)|\n",
    "|`day()`|Day of month (1-31)|\n",
    "|`hour()`|Hour (0-23)|\n",
    "|`min()`|Minute (0-59)|\n",
    "|`second()`|Second (0-59)|\n",
    "|`wday()`|Weekday (1-7)|\n",
    "\n",
    "\n",
    "> ### Setting parts of a datetime\n"
   ]
  },
  {
   "cell_type": "code",
   "execution_count": 47,
   "metadata": {},
   "outputs": [
    {
     "data": {
      "text/html": [
       "<time datetime=\"1997-06-15\">1997-06-15</time>"
      ],
      "text/latex": [
       "1997-06-15"
      ],
      "text/markdown": [
       "1997-06-15"
      ],
      "text/plain": [
       "[1] \"1997-06-15\""
      ]
     },
     "metadata": {},
     "output_type": "display_data"
    }
   ],
   "source": [
    "yob"
   ]
  },
  {
   "cell_type": "code",
   "execution_count": 50,
   "metadata": {},
   "outputs": [],
   "source": [
    "year(yob) <- 2020"
   ]
  },
  {
   "cell_type": "code",
   "execution_count": 51,
   "metadata": {},
   "outputs": [
    {
     "data": {
      "text/html": [
       "<time datetime=\"2020-06-15\">2020-06-15</time>"
      ],
      "text/latex": [
       "2020-06-15"
      ],
      "text/markdown": [
       "2020-06-15"
      ],
      "text/plain": [
       "[1] \"2020-06-15\""
      ]
     },
     "metadata": {},
     "output_type": "display_data"
    }
   ],
   "source": [
    "yob"
   ]
  },
  {
   "cell_type": "markdown",
   "metadata": {},
   "source": [
    "> ### Other useful functions\n",
    "|Function|Extracts|\n",
    "|---|---|\n",
    "|`leap_year()`|In leap year (TRUE or FALSE)|\n",
    "|`am()`|In morning (TRUE or FALSE)|\n",
    "|`pm()`|In afternoon (TRUE or FALSE)|\n",
    "|`dst()`|During daylight savings (TRUE or FALSE)|\n",
    "|`quarter()`|Quarter of year (1-4)|\n",
    "|`semester()`|Half of year (1-2)|"
   ]
  },
  {
   "cell_type": "code",
   "execution_count": 52,
   "metadata": {},
   "outputs": [
    {
     "data": {
      "text/plain": [
       "[1] \"1997-12-04 08:47:58 UTC\" \"1997-12-21 13:09:22 UTC\"\n",
       "[3] \"1998-01-10 00:31:55 UTC\" \"1998-03-14 19:25:55 UTC\"\n",
       "[5] \"1998-05-02 07:58:17 UTC\" \"1998-06-14 12:56:20 UTC\""
      ]
     },
     "metadata": {},
     "output_type": "display_data"
    }
   ],
   "source": [
    "# Examine the head() of release_time\n",
    "head(releases$datetime)\n",
    "\n"
   ]
  },
  {
   "cell_type": "code",
   "execution_count": 53,
   "metadata": {},
   "outputs": [
    {
     "data": {
      "text/html": [
       "<ol class=list-inline>\n",
       "\t<li>12</li>\n",
       "\t<li>12</li>\n",
       "\t<li>1</li>\n",
       "\t<li>3</li>\n",
       "\t<li>5</li>\n",
       "\t<li>6</li>\n",
       "</ol>\n"
      ],
      "text/latex": [
       "\\begin{enumerate*}\n",
       "\\item 12\n",
       "\\item 12\n",
       "\\item 1\n",
       "\\item 3\n",
       "\\item 5\n",
       "\\item 6\n",
       "\\end{enumerate*}\n"
      ],
      "text/markdown": [
       "1. 12\n",
       "2. 12\n",
       "3. 1\n",
       "4. 3\n",
       "5. 5\n",
       "6. 6\n",
       "\n",
       "\n"
      ],
      "text/plain": [
       "[1] 12 12  1  3  5  6"
      ]
     },
     "metadata": {},
     "output_type": "display_data"
    }
   ],
   "source": [
    "# Examine the head() of the months of release_time\n",
    "head(month(releases$datetime))\n",
    "\n"
   ]
  },
  {
   "cell_type": "code",
   "execution_count": 54,
   "metadata": {},
   "outputs": [
    {
     "data": {
      "text/plain": [
       ".\n",
       " 1  2  3  4  5  6  7  8  9 10 11 12 \n",
       " 5  6  8 18  5 16  4  7  2 15  6 13 "
      ]
     },
     "metadata": {},
     "output_type": "display_data"
    }
   ],
   "source": [
    "# Extract the month of releases \n",
    "month(releases$datetime) %>% table()\n",
    "\n"
   ]
  },
  {
   "cell_type": "code",
   "execution_count": 55,
   "metadata": {},
   "outputs": [
    {
     "data": {
      "text/plain": [
       ".\n",
       "1997 1998 1999 2000 2001 2002 2003 2004 2005 2006 2007 2008 2009 2010 2011 2012 \n",
       "   2   10    9    6    6    5    5    4    4    4    4    6    5    4    6    4 \n",
       "2013 2014 2015 2016 2017 \n",
       "   4    4    5    5    3 "
      ]
     },
     "metadata": {},
     "output_type": "display_data"
    }
   ],
   "source": [
    "# Extract the year of releases\n",
    "year(releases$datetime) %>% table()\n",
    "\n"
   ]
  },
  {
   "cell_type": "code",
   "execution_count": 56,
   "metadata": {},
   "outputs": [
    {
     "data": {
      "text/html": [
       "0.752380952380952"
      ],
      "text/latex": [
       "0.752380952380952"
      ],
      "text/markdown": [
       "0.752380952380952"
      ],
      "text/plain": [
       "[1] 0.752381"
      ]
     },
     "metadata": {},
     "output_type": "display_data"
    }
   ],
   "source": [
    "# How often is the hour before 12 (noon)?\n",
    "mean(hour(releases$datetime) < 12)\n",
    "\n"
   ]
  },
  {
   "cell_type": "code",
   "execution_count": 57,
   "metadata": {},
   "outputs": [
    {
     "data": {
      "text/html": [
       "0.752380952380952"
      ],
      "text/latex": [
       "0.752380952380952"
      ],
      "text/markdown": [
       "0.752380952380952"
      ],
      "text/plain": [
       "[1] 0.752381"
      ]
     },
     "metadata": {},
     "output_type": "display_data"
    }
   ],
   "source": [
    "# How often is the release in am?\n",
    "mean(am(releases$datetime))"
   ]
  },
  {
   "cell_type": "markdown",
   "metadata": {},
   "source": [
    "R versions have historically been released most in April, June, October and December, 1998 saw 10 releases and about 75% of releases happen in the morning (at least according to UTC)."
   ]
  },
  {
   "cell_type": "markdown",
   "metadata": {},
   "source": [
    "### Adding useful labels\n",
    "\n",
    "Sometimes it's nicer (especially for plotting or tables) to have named months. Both the `month()` and `wday()` (day of the week) functions have additional arguments `label` and `abbr` to achieve just that. Set `label = TRUE` to have the output labelled with month (or weekday) names, and `abbr = FALSE` for those names to be written in full rather than abbreviated."
   ]
  },
  {
   "cell_type": "code",
   "execution_count": 58,
   "metadata": {},
   "outputs": [
    {
     "data": {
      "text/plain": [
       ".\n",
       " 1  2  3  4  5  6  7 \n",
       " 3 29  9 12 18 31  3 "
      ]
     },
     "metadata": {},
     "output_type": "display_data"
    }
   ],
   "source": [
    "# Use wday() to tabulate release by day of the week\n",
    "wday(releases$datetime) %>% table()\n",
    "\n"
   ]
  },
  {
   "cell_type": "code",
   "execution_count": 59,
   "metadata": {},
   "outputs": [
    {
     "data": {
      "text/plain": [
       ".\n",
       "Sun Mon Tue Wed Thu Fri Sat \n",
       "  3  29   9  12  18  31   3 "
      ]
     },
     "metadata": {},
     "output_type": "display_data"
    }
   ],
   "source": [
    "# Add label = TRUE to make table more readable\n",
    "wday(releases$datetime, label=TRUE) %>% table()\n",
    "\n"
   ]
  },
  {
   "cell_type": "code",
   "execution_count": 60,
   "metadata": {},
   "outputs": [
    {
     "data": {
      "image/png": "[encoded data removed]",
      "text/plain": [
       "plot without title"
      ]
     },
     "metadata": {},
     "output_type": "display_data"
    }
   ],
   "source": [
    "# Create column wday to hold labelled week days\n",
    "releases$wday <- wday(releases$datetime, label=T)\n",
    "\n",
    "# Plot barchart of weekday by type of release\n",
    "releases %>%\n",
    "    ggplot(aes(wday)) +\n",
    "        geom_bar() +\n",
    "        facet_wrap(~ type, ncol = 1, scale = \"free_y\")"
   ]
  },
  {
   "cell_type": "markdown",
   "metadata": {},
   "source": [
    "Looks like not too many releases occur on the weekends, and there is quite a different weekday pattern between minor and patch releases."
   ]
  },
  {
   "cell_type": "markdown",
   "metadata": {},
   "source": [
    "### Extracting for plotting\n",
    "\n",
    "Extracting components from a datetime is particularly useful when exploring data. Earlier we imported daily data for weather in Auckland, and created a time series plot of ten years of daily maximum temperature. While that plot gives a good overview of the whole ten years, it's hard to see the annual pattern.\n",
    "\n",
    "We'll use components of the dates to help explore the pattern of maximum temperature over the year. The first step is to create some new columns to hold the extracted pieces, then we'll use them in a couple of plots."
   ]
  },
  {
   "cell_type": "code",
   "execution_count": 64,
   "metadata": {},
   "outputs": [
    {
     "name": "stderr",
     "output_type": "stream",
     "text": [
      "Warning message:\n",
      "\"Removed 1 row(s) containing missing values (geom_path).\""
     ]
    },
    {
     "data": {
      "image/png": "[encoded data removed]",
      "text/plain": [
       "plot without title"
      ]
     },
     "metadata": {},
     "output_type": "display_data"
    }
   ],
   "source": [
    "# Add columns for year, yday and month\n",
    "akl_daily <- akl_daily %>%\n",
    "  mutate(\n",
    "    year = year(date),\n",
    "    yday = yday(date),\n",
    "    month = month(date, label=T))\n",
    "\n",
    "# Plot max_temp by yday for all years\n",
    "akl_daily %>%\n",
    "    ggplot(aes(x = yday, y = max_temp)) +\n",
    "    geom_line(aes(group = year), alpha = 0.5)\n",
    "\n"
   ]
  },
  {
   "cell_type": "code",
   "execution_count": 65,
   "metadata": {},
   "outputs": [
    {
     "name": "stderr",
     "output_type": "stream",
     "text": [
      "Warning message:\n",
      "\"Removed 10 rows containing non-finite values (stat_density).\""
     ]
    },
    {
     "data": {
      "image/png": "[encoded data removed]",
      "text/plain": [
       "plot without title"
      ]
     },
     "metadata": {},
     "output_type": "display_data"
    }
   ],
   "source": [
    "# Examine distribution of max_temp by month\n",
    "akl_daily %>%\n",
    "    ggplot(aes(x = max_temp, y = month, height = ..density..)) +\n",
    "    geom_density_ridges(stat = \"density\")"
   ]
  },
  {
   "cell_type": "markdown",
   "metadata": {},
   "source": [
    "Both plots give a great view into both the expected temperatures and how much they vary. Looks like Jan, Feb and Mar are great months to visit if you want warm temperatures. Did you notice the warning messages? These are a consequence of some missing values in the `max_tem`p column. They are a reminder to think carefully about what you might miss by ignoring missing values."
   ]
  },
  {
   "cell_type": "markdown",
   "metadata": {},
   "source": [
    "### Extracting for filtering and summarizing\n",
    "\n",
    "\n",
    "Another reason to extract components is to help with filtering observations or creating summaries. For example, if you are only interested in observations made on weekdays (i.e. not on weekends) you could extract the weekdays then filter out weekends, e.g. `wday(date) %in% 2:6`.\n",
    "\n",
    "We saw that January, February and March were great times to visit Auckland for warm temperatures, but will you need a raincoat?\n",
    "\n",
    "We'll use the hourly data to calculate how many days in each month there was any rain during the day."
   ]
  },
  {
   "cell_type": "code",
   "execution_count": 66,
   "metadata": {},
   "outputs": [
    {
     "name": "stderr",
     "output_type": "stream",
     "text": [
      "`summarise()` regrouping output by 'month' (override with `.groups` argument)\n",
      "`summarise()` ungrouping output (override with `.groups` argument)\n"
     ]
    },
    {
     "data": {
      "text/html": [
       "<table>\n",
       "<thead><tr><th scope=col>month</th><th scope=col>days_rainy</th></tr></thead>\n",
       "<tbody>\n",
       "\t<tr><td>Jan</td><td>15 </td></tr>\n",
       "\t<tr><td>Feb</td><td>13 </td></tr>\n",
       "\t<tr><td>Mar</td><td>12 </td></tr>\n",
       "\t<tr><td>Apr</td><td>15 </td></tr>\n",
       "\t<tr><td>May</td><td>21 </td></tr>\n",
       "\t<tr><td>Jun</td><td>19 </td></tr>\n",
       "\t<tr><td>Jul</td><td>22 </td></tr>\n",
       "\t<tr><td>Aug</td><td>16 </td></tr>\n",
       "\t<tr><td>Sep</td><td>25 </td></tr>\n",
       "\t<tr><td>Oct</td><td>20 </td></tr>\n",
       "\t<tr><td>Nov</td><td>19 </td></tr>\n",
       "\t<tr><td>Dec</td><td>11 </td></tr>\n",
       "</tbody>\n",
       "</table>\n"
      ],
      "text/latex": [
       "\\begin{tabular}{r|ll}\n",
       " month & days\\_rainy\\\\\n",
       "\\hline\n",
       "\t Jan & 15 \\\\\n",
       "\t Feb & 13 \\\\\n",
       "\t Mar & 12 \\\\\n",
       "\t Apr & 15 \\\\\n",
       "\t May & 21 \\\\\n",
       "\t Jun & 19 \\\\\n",
       "\t Jul & 22 \\\\\n",
       "\t Aug & 16 \\\\\n",
       "\t Sep & 25 \\\\\n",
       "\t Oct & 20 \\\\\n",
       "\t Nov & 19 \\\\\n",
       "\t Dec & 11 \\\\\n",
       "\\end{tabular}\n"
      ],
      "text/markdown": [
       "\n",
       "| month | days_rainy |\n",
       "|---|---|\n",
       "| Jan | 15  |\n",
       "| Feb | 13  |\n",
       "| Mar | 12  |\n",
       "| Apr | 15  |\n",
       "| May | 21  |\n",
       "| Jun | 19  |\n",
       "| Jul | 22  |\n",
       "| Aug | 16  |\n",
       "| Sep | 25  |\n",
       "| Oct | 20  |\n",
       "| Nov | 19  |\n",
       "| Dec | 11  |\n",
       "\n"
      ],
      "text/plain": [
       "   month days_rainy\n",
       "1  Jan   15        \n",
       "2  Feb   13        \n",
       "3  Mar   12        \n",
       "4  Apr   15        \n",
       "5  May   21        \n",
       "6  Jun   19        \n",
       "7  Jul   22        \n",
       "8  Aug   16        \n",
       "9  Sep   25        \n",
       "10 Oct   20        \n",
       "11 Nov   19        \n",
       "12 Dec   11        "
      ]
     },
     "metadata": {},
     "output_type": "display_data"
    }
   ],
   "source": [
    "# Create new columns hour, month and rainy\n",
    "akl_hourly <- akl_hourly %>%\n",
    "  mutate(\n",
    "    hour = hour(datetime),\n",
    "    month = month(datetime, label=T),\n",
    "    rainy = weather == \"Precipitation\"\n",
    "  )\n",
    "\n",
    "# Filter for hours between 8am and 10pm (inclusive)\n",
    "akl_day <- akl_hourly %>% \n",
    "  filter(hour>=8, hour<=22)\n",
    "\n",
    "# Summarise for each date if there is any rain\n",
    "rainy_days <- akl_day %>% \n",
    "  group_by(month, date) %>%\n",
    "  summarise(\n",
    "    any_rain = any(rainy)\n",
    "  )\n",
    "\n",
    "# Summarise for each month, the number of days with rain\n",
    "rainy_days<- rainy_days %>% \n",
    "    summarise(\n",
    "        days_rainy = sum(any_rain)\n",
    "    )\n",
    "rainy_days"
   ]
  },
  {
   "cell_type": "markdown",
   "metadata": {},
   "source": [
    "At least in 2016, it looks like you'll still need to pack a raincoat if you visit in Jan, Feb or March. Months of course are different lengths so we should really correct for that, take a look at [`days_in_month()`](https://www.rdocumentation.org/packages/lubridate/topics/days_in_month) for helping with that."
   ]
  },
  {
   "cell_type": "markdown",
   "metadata": {},
   "source": [
    "## Rounding datetimes\n",
    "\n",
    "> ### Rounding versus extracting"
   ]
  },
  {
   "cell_type": "code",
   "execution_count": 71,
   "metadata": {},
   "outputs": [
    {
     "data": {
      "text/plain": [
       "[1] \"1997-12-04 08:47:58 UTC\" \"1997-12-21 13:09:22 UTC\"\n",
       "[3] \"1998-01-10 00:31:55 UTC\" \"1998-03-14 19:25:55 UTC\"\n",
       "[5] \"1998-05-02 07:58:17 UTC\" \"1998-06-14 12:56:20 UTC\""
      ]
     },
     "metadata": {},
     "output_type": "display_data"
    }
   ],
   "source": [
    "release_time = releases$datetime\n",
    "head(release_time)"
   ]
  },
  {
   "cell_type": "code",
   "execution_count": 72,
   "metadata": {},
   "outputs": [
    {
     "data": {
      "text/html": [
       "<ol class=list-inline>\n",
       "\t<li>8</li>\n",
       "\t<li>13</li>\n",
       "\t<li>0</li>\n",
       "\t<li>19</li>\n",
       "\t<li>7</li>\n",
       "\t<li>12</li>\n",
       "</ol>\n"
      ],
      "text/latex": [
       "\\begin{enumerate*}\n",
       "\\item 8\n",
       "\\item 13\n",
       "\\item 0\n",
       "\\item 19\n",
       "\\item 7\n",
       "\\item 12\n",
       "\\end{enumerate*}\n"
      ],
      "text/markdown": [
       "1. 8\n",
       "2. 13\n",
       "3. 0\n",
       "4. 19\n",
       "5. 7\n",
       "6. 12\n",
       "\n",
       "\n"
      ],
      "text/plain": [
       "[1]  8 13  0 19  7 12"
      ]
     },
     "metadata": {},
     "output_type": "display_data"
    }
   ],
   "source": [
    "release_time %>%\n",
    "    head() %>%\n",
    "        hour()"
   ]
  },
  {
   "cell_type": "code",
   "execution_count": 73,
   "metadata": {},
   "outputs": [
    {
     "data": {
      "text/plain": [
       "[1] \"1997-12-04 08:00:00 UTC\" \"1997-12-21 13:00:00 UTC\"\n",
       "[3] \"1998-01-10 00:00:00 UTC\" \"1998-03-14 19:00:00 UTC\"\n",
       "[5] \"1998-05-02 07:00:00 UTC\" \"1998-06-14 12:00:00 UTC\""
      ]
     },
     "metadata": {},
     "output_type": "display_data"
    }
   ],
   "source": [
    "release_time %>%\n",
    "    head() %>%\n",
    "        floor_date(unit=\"hour\")"
   ]
  },
  {
   "cell_type": "markdown",
   "metadata": {},
   "source": [
    "> ### Rounding in lubridate\n",
    "- `round_date()` - round to nearest\n",
    "- `ceiling_date()` - round up\n",
    "- `floor_date()` - round to down\n",
    "- Possible values of unit:\n",
    "  - `\"second\"`, `\"minute\"`, `\"hour\"`, `\"day\"`, `\"week\"`, `\"month\"`, `\"bimonth\"`, `\"quarter\"`, `\"halfyear\"`, or `\"year\"`.\n",
    "  - Or multiples, e.g `\"2 years\"`, `\"5 minutes\"`\n"
   ]
  },
  {
   "cell_type": "code",
   "execution_count": 74,
   "metadata": {},
   "outputs": [
    {
     "data": {
      "text/plain": [
       "[1] \"2016-05-03 UTC\""
      ]
     },
     "metadata": {},
     "output_type": "display_data"
    }
   ],
   "source": [
    "r_3_4_1 <- ymd_hms(\"2016-05-03 07:13:28 UTC\")\n",
    "\n",
    "# Round down to day\n",
    "floor_date(r_3_4_1, unit = \"day\")\n",
    "\n"
   ]
  },
  {
   "cell_type": "code",
   "execution_count": 75,
   "metadata": {},
   "outputs": [
    {
     "data": {
      "text/plain": [
       "[1] \"2016-05-03 07:15:00 UTC\""
      ]
     },
     "metadata": {},
     "output_type": "display_data"
    }
   ],
   "source": [
    "# Round to nearest 5 minutes\n",
    "round_date(r_3_4_1, unit = \"5 minutes\")\n",
    "\n"
   ]
  },
  {
   "cell_type": "code",
   "execution_count": 76,
   "metadata": {},
   "outputs": [
    {
     "data": {
      "text/plain": [
       "[1] \"2016-05-08 UTC\""
      ]
     },
     "metadata": {},
     "output_type": "display_data"
    }
   ],
   "source": [
    "# Round up to week \n",
    "ceiling_date(r_3_4_1, unit = \"week\")\n",
    "\n"
   ]
  },
  {
   "cell_type": "code",
   "execution_count": 77,
   "metadata": {},
   "outputs": [
    {
     "data": {
      "text/plain": [
       "Time difference of 7.224444 hours"
      ]
     },
     "metadata": {},
     "output_type": "display_data"
    }
   ],
   "source": [
    "# Subtract r_3_4_1 rounded down to day\n",
    "r_3_4_1 - floor_date(r_3_4_1, unit = \"day\")"
   ]
  },
  {
   "cell_type": "markdown",
   "metadata": {},
   "source": [
    "That last technique of subtracting a rounded datetime from an unrounded one is a really useful trick to remember."
   ]
  },
  {
   "cell_type": "markdown",
   "metadata": {},
   "source": [
    "### Rounding with the weather data\n",
    "\n",
    "\n",
    "When is rounding useful? In a lot of the same situations extracting date components is useful. The advantage of rounding over extracting is that it maintains the context of the unit. For example, extracting the hour gives you the hour the datetime occurred, but you lose the day that hour occurred on (unless you extract that too), on the other hand, rounding to the nearest hour maintains the day, month and year.\n",
    "\n",
    "We'll explore how many observations per hour there really are in the hourly Auckland weather data."
   ]
  },
  {
   "cell_type": "code",
   "execution_count": 78,
   "metadata": {},
   "outputs": [
    {
     "data": {
      "text/html": [
       "<table>\n",
       "<thead><tr><th scope=col>day_hour</th><th scope=col>n</th></tr></thead>\n",
       "<tbody>\n",
       "\t<tr><td>2016-01-01 00:00:00</td><td>2                  </td></tr>\n",
       "\t<tr><td>2016-01-01 01:00:00</td><td>2                  </td></tr>\n",
       "\t<tr><td>2016-01-01 02:00:00</td><td>2                  </td></tr>\n",
       "\t<tr><td>2016-01-01 03:00:00</td><td>2                  </td></tr>\n",
       "\t<tr><td>2016-01-01 04:00:00</td><td>2                  </td></tr>\n",
       "\t<tr><td>2016-01-01 05:00:00</td><td>2                  </td></tr>\n",
       "</tbody>\n",
       "</table>\n"
      ],
      "text/latex": [
       "\\begin{tabular}{r|ll}\n",
       " day\\_hour & n\\\\\n",
       "\\hline\n",
       "\t 2016-01-01 00:00:00 & 2                  \\\\\n",
       "\t 2016-01-01 01:00:00 & 2                  \\\\\n",
       "\t 2016-01-01 02:00:00 & 2                  \\\\\n",
       "\t 2016-01-01 03:00:00 & 2                  \\\\\n",
       "\t 2016-01-01 04:00:00 & 2                  \\\\\n",
       "\t 2016-01-01 05:00:00 & 2                  \\\\\n",
       "\\end{tabular}\n"
      ],
      "text/markdown": [
       "\n",
       "| day_hour | n |\n",
       "|---|---|\n",
       "| 2016-01-01 00:00:00 | 2                   |\n",
       "| 2016-01-01 01:00:00 | 2                   |\n",
       "| 2016-01-01 02:00:00 | 2                   |\n",
       "| 2016-01-01 03:00:00 | 2                   |\n",
       "| 2016-01-01 04:00:00 | 2                   |\n",
       "| 2016-01-01 05:00:00 | 2                   |\n",
       "\n"
      ],
      "text/plain": [
       "  day_hour            n\n",
       "1 2016-01-01 00:00:00 2\n",
       "2 2016-01-01 01:00:00 2\n",
       "3 2016-01-01 02:00:00 2\n",
       "4 2016-01-01 03:00:00 2\n",
       "5 2016-01-01 04:00:00 2\n",
       "6 2016-01-01 05:00:00 2"
      ]
     },
     "metadata": {},
     "output_type": "display_data"
    }
   ],
   "source": [
    "# Create day_hour, datetime rounded down to hour\n",
    "akl_hourly <- akl_hourly %>%\n",
    "  mutate(\n",
    "    day_hour = floor_date(datetime, unit = \"hour\")\n",
    "  )\n",
    "\n",
    "# Count observations per hour  \n",
    "akl_hourly %>% \n",
    "    count(day_hour) %>%\n",
    "    head()"
   ]
  },
  {
   "cell_type": "code",
   "execution_count": 79,
   "metadata": {},
   "outputs": [
    {
     "data": {
      "text/html": [
       "<table>\n",
       "<thead><tr><th scope=col>day_hour</th><th scope=col>n</th></tr></thead>\n",
       "<tbody>\n",
       "\t<tr><td>2016-04-03 02:00:00</td><td>4                  </td></tr>\n",
       "\t<tr><td>2016-09-25 00:00:00</td><td>4                  </td></tr>\n",
       "\t<tr><td>2016-06-26 09:00:00</td><td>1                  </td></tr>\n",
       "\t<tr><td>2016-09-01 23:00:00</td><td>1                  </td></tr>\n",
       "\t<tr><td>2016-09-02 01:00:00</td><td>1                  </td></tr>\n",
       "\t<tr><td>2016-09-04 11:00:00</td><td>1                  </td></tr>\n",
       "</tbody>\n",
       "</table>\n"
      ],
      "text/latex": [
       "\\begin{tabular}{r|ll}\n",
       " day\\_hour & n\\\\\n",
       "\\hline\n",
       "\t 2016-04-03 02:00:00 & 4                  \\\\\n",
       "\t 2016-09-25 00:00:00 & 4                  \\\\\n",
       "\t 2016-06-26 09:00:00 & 1                  \\\\\n",
       "\t 2016-09-01 23:00:00 & 1                  \\\\\n",
       "\t 2016-09-02 01:00:00 & 1                  \\\\\n",
       "\t 2016-09-04 11:00:00 & 1                  \\\\\n",
       "\\end{tabular}\n"
      ],
      "text/markdown": [
       "\n",
       "| day_hour | n |\n",
       "|---|---|\n",
       "| 2016-04-03 02:00:00 | 4                   |\n",
       "| 2016-09-25 00:00:00 | 4                   |\n",
       "| 2016-06-26 09:00:00 | 1                   |\n",
       "| 2016-09-01 23:00:00 | 1                   |\n",
       "| 2016-09-02 01:00:00 | 1                   |\n",
       "| 2016-09-04 11:00:00 | 1                   |\n",
       "\n"
      ],
      "text/plain": [
       "  day_hour            n\n",
       "1 2016-04-03 02:00:00 4\n",
       "2 2016-09-25 00:00:00 4\n",
       "3 2016-06-26 09:00:00 1\n",
       "4 2016-09-01 23:00:00 1\n",
       "5 2016-09-02 01:00:00 1\n",
       "6 2016-09-04 11:00:00 1"
      ]
     },
     "metadata": {},
     "output_type": "display_data"
    }
   ],
   "source": [
    "# Find day_hours with n != 2  \n",
    "akl_hourly %>% \n",
    "    count(day_hour) %>%\n",
    "        filter(n!=2) %>% \n",
    "            arrange(desc(n)) %>%\n",
    "                head()"
   ]
  },
  {
   "cell_type": "markdown",
   "metadata": {},
   "source": [
    "Interestingly there are four measurements on 2016-04-03 and 2016-09-25, they happen to be the days Daylight Saving starts and ends."
   ]
  },
  {
   "cell_type": "markdown",
   "metadata": {},
   "source": [
    "# Arithmetic with Dates and Times\n",
    "\n",
    "Getting datetimes into R is just the first step. Now we've explored how to parse datetimes, we need to explore how to do calculations with them. Here we'll learn the different ways of representing spans of time with lubridate and how to leverage them to do arithmetic on datetimes. By the end we'll have calculated how long it's been since the first man stepped on the moon, generated sequences of dates to help schedule reminders, calculated when an eclipse occurs, and explored the reigns of monarch's of England (and which ones might have seen Halley's comet!)."
   ]
  },
  {
   "cell_type": "markdown",
   "metadata": {},
   "source": [
    "## Taking differences of datetimes\n",
    "\n",
    "\n",
    "> ### Arithmetic for datetimes\n",
    "- `datetime_1 - datetime2`: Subtraction for time elapsed\n",
    "- `datetime_1 + (2 * timespan)`: Addition and multiplication for generating new datetimes in the past or future\n",
    "- `timespan1 / timespan2`: Division for change of units\n",
    "\n",
    "> ### Subtraction of datetimes"
   ]
  },
  {
   "cell_type": "code",
   "execution_count": 80,
   "metadata": {},
   "outputs": [
    {
     "data": {
      "text/html": [
       "<time datetime=\"2017-06-30\">2017-06-30</time>"
      ],
      "text/latex": [
       "2017-06-30"
      ],
      "text/markdown": [
       "2017-06-30"
      ],
      "text/plain": [
       "[1] \"2017-06-30\""
      ]
     },
     "metadata": {},
     "output_type": "display_data"
    }
   ],
   "source": [
    "last_release_date"
   ]
  },
  {
   "cell_type": "code",
   "execution_count": 81,
   "metadata": {},
   "outputs": [
    {
     "data": {
      "text/plain": [
       "Time difference of 1109 days"
      ]
     },
     "metadata": {},
     "output_type": "display_data"
    }
   ],
   "source": [
    "Sys.Date() - last_release_date"
   ]
  },
  {
   "cell_type": "code",
   "execution_count": 83,
   "metadata": {},
   "outputs": [
    {
     "data": {
      "text/plain": [
       "Time difference of 1109 days"
      ]
     },
     "metadata": {},
     "output_type": "display_data"
    }
   ],
   "source": [
    "difftime(Sys.Date(), last_release_date)"
   ]
  },
  {
   "cell_type": "markdown",
   "metadata": {},
   "source": [
    "> ### difftime()\n",
    "- units =`\"secs\"`,`\"mins\"`,`\"hours\"`,`\"days\"`, or `\"weeks\"`"
   ]
  },
  {
   "cell_type": "code",
   "execution_count": 84,
   "metadata": {},
   "outputs": [
    {
     "data": {
      "text/html": [
       "<time datetime=\"1997-06-15\">1997-06-15</time>"
      ],
      "text/latex": [
       "1997-06-15"
      ],
      "text/markdown": [
       "1997-06-15"
      ],
      "text/plain": [
       "[1] \"1997-06-15\""
      ]
     },
     "metadata": {},
     "output_type": "display_data"
    }
   ],
   "source": [
    "year(yob) <- 1997\n",
    "yob"
   ]
  },
  {
   "cell_type": "code",
   "execution_count": 87,
   "metadata": {},
   "outputs": [
    {
     "data": {
      "text/plain": [
       "Time difference of 1204.143 weeks"
      ]
     },
     "metadata": {},
     "output_type": "display_data"
    }
   ],
   "source": [
    "difftime(Sys.Date(), yob, units=\"weeks\")"
   ]
  },
  {
   "cell_type": "code",
   "execution_count": 89,
   "metadata": {},
   "outputs": [
    {
     "data": {
      "text/plain": [
       "Time difference of 8429 days"
      ]
     },
     "metadata": {},
     "output_type": "display_data"
    }
   ],
   "source": [
    "difftime(Sys.Date(), yob, units=\"days\")"
   ]
  },
  {
   "cell_type": "code",
   "execution_count": 91,
   "metadata": {},
   "outputs": [
    {
     "data": {
      "text/plain": [
       "Time difference of 728265600 secs"
      ]
     },
     "metadata": {},
     "output_type": "display_data"
    }
   ],
   "source": [
    "difftime(Sys.Date(), yob, units=\"secs\")"
   ]
  },
  {
   "cell_type": "markdown",
   "metadata": {},
   "source": [
    "> ### now() and today()"
   ]
  },
  {
   "cell_type": "code",
   "execution_count": 92,
   "metadata": {},
   "outputs": [
    {
     "data": {
      "text/plain": [
       "[1] \"2020-07-13 16:48:30 EAT\""
      ]
     },
     "metadata": {},
     "output_type": "display_data"
    }
   ],
   "source": [
    "now()"
   ]
  },
  {
   "cell_type": "code",
   "execution_count": 93,
   "metadata": {},
   "outputs": [
    {
     "data": {
      "text/html": [
       "<time datetime=\"2020-07-13\">2020-07-13</time>"
      ],
      "text/latex": [
       "2020-07-13"
      ],
      "text/markdown": [
       "2020-07-13"
      ],
      "text/plain": [
       "[1] \"2020-07-13\""
      ]
     },
     "metadata": {},
     "output_type": "display_data"
    }
   ],
   "source": [
    "today()"
   ]
  },
  {
   "cell_type": "code",
   "execution_count": 94,
   "metadata": {},
   "outputs": [
    {
     "name": "stdout",
     "output_type": "stream",
     "text": [
      " Date[1:1], format: \"2020-07-13\"\n"
     ]
    }
   ],
   "source": [
    "str(today())"
   ]
  },
  {
   "cell_type": "code",
   "execution_count": null,
   "metadata": {},
   "outputs": [],
   "source": []
  },
  {
   "cell_type": "code",
   "execution_count": null,
   "metadata": {},
   "outputs": [],
   "source": []
  },
  {
   "cell_type": "code",
   "execution_count": null,
   "metadata": {},
   "outputs": [],
   "source": []
  },
  {
   "cell_type": "code",
   "execution_count": null,
   "metadata": {},
   "outputs": [],
   "source": []
  },
  {
   "cell_type": "code",
   "execution_count": null,
   "metadata": {},
   "outputs": [],
   "source": []
  },
  {
   "cell_type": "code",
   "execution_count": null,
   "metadata": {},
   "outputs": [],
   "source": []
  },
  {
   "cell_type": "code",
   "execution_count": null,
   "metadata": {},
   "outputs": [],
   "source": []
  },
  {
   "cell_type": "code",
   "execution_count": null,
   "metadata": {},
   "outputs": [],
   "source": []
  },
  {
   "cell_type": "code",
   "execution_count": null,
   "metadata": {},
   "outputs": [],
   "source": []
  },
  {
   "cell_type": "code",
   "execution_count": null,
   "metadata": {},
   "outputs": [],
   "source": []
  },
  {
   "cell_type": "code",
   "execution_count": null,
   "metadata": {},
   "outputs": [],
   "source": []
  },
  {
   "cell_type": "code",
   "execution_count": null,
   "metadata": {},
   "outputs": [],
   "source": []
  },
  {
   "cell_type": "code",
   "execution_count": null,
   "metadata": {},
   "outputs": [],
   "source": []
  },
  {
   "cell_type": "code",
   "execution_count": null,
   "metadata": {},
   "outputs": [],
   "source": []
  },
  {
   "cell_type": "code",
   "execution_count": null,
   "metadata": {},
   "outputs": [],
   "source": []
  },
  {
   "cell_type": "code",
   "execution_count": null,
   "metadata": {},
   "outputs": [],
   "source": []
  },
  {
   "cell_type": "code",
   "execution_count": null,
   "metadata": {},
   "outputs": [],
   "source": []
  },
  {
   "cell_type": "code",
   "execution_count": null,
   "metadata": {},
   "outputs": [],
   "source": []
  },
  {
   "cell_type": "code",
   "execution_count": null,
   "metadata": {},
   "outputs": [],
   "source": []
  },
  {
   "cell_type": "code",
   "execution_count": null,
   "metadata": {},
   "outputs": [],
   "source": []
  },
  {
   "cell_type": "code",
   "execution_count": null,
   "metadata": {},
   "outputs": [],
   "source": []
  },
  {
   "cell_type": "code",
   "execution_count": null,
   "metadata": {},
   "outputs": [],
   "source": []
  },
  {
   "cell_type": "code",
   "execution_count": null,
   "metadata": {},
   "outputs": [],
   "source": []
  },
  {
   "cell_type": "code",
   "execution_count": null,
   "metadata": {},
   "outputs": [],
   "source": []
  },
  {
   "cell_type": "code",
   "execution_count": null,
   "metadata": {},
   "outputs": [],
   "source": []
  },
  {
   "cell_type": "markdown",
   "metadata": {},
   "source": [
    "{{'source: [https://xkcd.com/1179](https://xkcd.com/1179)' | fndetail 1}}"
   ]
  }
 ],
 "metadata": {
  "kernelspec": {
   "display_name": "R",
   "language": "R",
   "name": "ir"
  },
  "language_info": {
   "codemirror_mode": "r",
   "file_extension": ".r",
   "mimetype": "text/x-r-source",
   "name": "R",
   "pygments_lexer": "r",
   "version": "3.6.1"
  }
 },
 "nbformat": 4,
 "nbformat_minor": 4
}
